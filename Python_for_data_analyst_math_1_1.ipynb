{
  "nbformat": 4,
  "nbformat_minor": 0,
  "metadata": {
    "colab": {
      "provenance": [],
      "authorship_tag": "ABX9TyPoZt1CB/DadcIBXqtxagFN",
      "include_colab_link": true
    },
    "kernelspec": {
      "name": "python3",
      "display_name": "Python 3"
    },
    "language_info": {
      "name": "python"
    }
  },
  "cells": [
    {
      "cell_type": "markdown",
      "metadata": {
        "id": "view-in-github",
        "colab_type": "text"
      },
      "source": [
        "<a href=\"https://colab.research.google.com/github/PraveenPrabhat125/Python-for-Data-Analyst/blob/main/Python_for_data_analyst_math_1_1.ipynb\" target=\"_parent\"><img src=\"https://colab.research.google.com/assets/colab-badge.svg\" alt=\"Open In Colab\"/></a>"
      ]
    },
    {
      "cell_type": "markdown",
      "source": [
        "### Arithmatics"
      ],
      "metadata": {
        "id": "itJ6z2zmR-n2"
      }
    },
    {
      "cell_type": "code",
      "source": [
        "print('Addition: ', 10+5)\n",
        "print('Substraction: ', 10-5)\n",
        "print('Multiplication: ', 10*5)\n",
        "print('Division: ', 10/3)\n",
        "print('Floor division: ', 10//3)\n",
        "print('Exponentiation: ', 10**5)"
      ],
      "metadata": {
        "colab": {
          "base_uri": "https://localhost:8080/"
        },
        "id": "_0i4K-AaQ99s",
        "outputId": "c2de3b9f-ff1b-4fe5-eae0-cd2d97658863"
      },
      "execution_count": 8,
      "outputs": [
        {
          "output_type": "stream",
          "name": "stdout",
          "text": [
            "Addition:  15\n",
            "Substraction:  5\n",
            "Multiplication:  50\n",
            "Division:  3.3333333333333335\n",
            "Floor division:  3\n",
            "Exponentiation:  100000\n"
          ]
        }
      ]
    },
    {
      "cell_type": "markdown",
      "source": [
        "### Math module"
      ],
      "metadata": {
        "id": "B953iWX8R-yP"
      }
    },
    {
      "cell_type": "code",
      "source": [
        "import math as m"
      ],
      "metadata": {
        "id": "nXY21PF6SKfq"
      },
      "execution_count": 12,
      "outputs": []
    },
    {
      "cell_type": "code",
      "source": [
        "# math.log() takes the natural logarithm of its argument:\n",
        "m.log(10)"
      ],
      "metadata": {
        "colab": {
          "base_uri": "https://localhost:8080/"
        },
        "id": "Dbput33rRYuI",
        "outputId": "c01ec310-fc00-4ee1-8555-614f2aaad6f4"
      },
      "execution_count": 14,
      "outputs": [
        {
          "output_type": "execute_result",
          "data": {
            "text/plain": [
              "2.302585092994046"
            ]
          },
          "metadata": {},
          "execution_count": 14
        }
      ]
    },
    {
      "cell_type": "code",
      "execution_count": 16,
      "metadata": {
        "colab": {
          "base_uri": "https://localhost:8080/"
        },
        "id": "s-09LbGYQo-_",
        "outputId": "bcf3389c-b7bf-41fe-9c89-037dc60d77cb"
      },
      "outputs": [
        {
          "output_type": "execute_result",
          "data": {
            "text/plain": [
              "2.0"
            ]
          },
          "metadata": {},
          "execution_count": 16
        }
      ],
      "source": [
        "# Add a second argument to specify the log base:\n",
        "m.log(100, 10)"
      ]
    },
    {
      "cell_type": "code",
      "source": [
        "# math.exp() raises e to the power of its argument\n",
        "m.exp(10)"
      ],
      "metadata": {
        "colab": {
          "base_uri": "https://localhost:8080/"
        },
        "id": "cE2Io1PQSoBn",
        "outputId": "382098d7-af33-47fc-8b95-a12150c49ea8"
      },
      "execution_count": 17,
      "outputs": [
        {
          "output_type": "execute_result",
          "data": {
            "text/plain": [
              "22026.465794806718"
            ]
          },
          "metadata": {},
          "execution_count": 17
        }
      ]
    },
    {
      "cell_type": "code",
      "source": [
        "m.sqrt(64)"
      ],
      "metadata": {
        "colab": {
          "base_uri": "https://localhost:8080/"
        },
        "id": "hRV1qDLGS0T0",
        "outputId": "15ef8dc6-d8c4-4f31-8e00-d7f9cd6d3a5a"
      },
      "execution_count": 18,
      "outputs": [
        {
          "output_type": "execute_result",
          "data": {
            "text/plain": [
              "8.0"
            ]
          },
          "metadata": {},
          "execution_count": 18
        }
      ]
    },
    {
      "cell_type": "code",
      "source": [
        "abs(-9900.32)"
      ],
      "metadata": {
        "colab": {
          "base_uri": "https://localhost:8080/"
        },
        "id": "Q_7ueRLUS3lE",
        "outputId": "8e857ec1-2c62-4f81-d0b7-a9c5c170fd74"
      },
      "execution_count": 19,
      "outputs": [
        {
          "output_type": "execute_result",
          "data": {
            "text/plain": [
              "9900.32"
            ]
          },
          "metadata": {},
          "execution_count": 19
        }
      ]
    },
    {
      "cell_type": "code",
      "source": [
        "math.pi"
      ],
      "metadata": {
        "colab": {
          "base_uri": "https://localhost:8080/"
        },
        "id": "v2gDQasQS-Py",
        "outputId": "9e6aa264-728e-45f2-e64d-36dd5c2feb96"
      },
      "execution_count": 20,
      "outputs": [
        {
          "output_type": "execute_result",
          "data": {
            "text/plain": [
              "3.141592653589793"
            ]
          },
          "metadata": {},
          "execution_count": 20
        }
      ]
    },
    {
      "cell_type": "markdown",
      "source": [
        "### Round"
      ],
      "metadata": {
        "id": "biScipbATBgz"
      }
    },
    {
      "cell_type": "code",
      "source": [
        "print('round(234.234)', round(234.234))\n",
        "print('round(235.256)', round(235.56))"
      ],
      "metadata": {
        "colab": {
          "base_uri": "https://localhost:8080/"
        },
        "id": "DWxjC6aDTEbP",
        "outputId": "61c251e0-f01a-4dcf-c9ad-5b94af2be53e"
      },
      "execution_count": 27,
      "outputs": [
        {
          "output_type": "stream",
          "name": "stdout",
          "text": [
            "round(234.234) 234\n",
            "round(235.256) 236\n"
          ]
        }
      ]
    },
    {
      "cell_type": "code",
      "source": [
        "# Add a second argument to round to a specified decimal place\n",
        "print('round(234.234)', round(234.234, 1))\n",
        "print('round(23.256)', round(235.56, 1))"
      ],
      "metadata": {
        "colab": {
          "base_uri": "https://localhost:8080/"
        },
        "id": "N8Ehfp2VTc3C",
        "outputId": "b5728033-0246-434d-964d-0cc9e97ca7ae"
      },
      "execution_count": 30,
      "outputs": [
        {
          "output_type": "stream",
          "name": "stdout",
          "text": [
            "round(234.234) 234.2\n",
            "round(23.256) 235.6\n"
          ]
        }
      ]
    },
    {
      "cell_type": "code",
      "source": [
        "# Enter a negative number to round to the left of the decimal\n",
        "print('round(23.256)', round(235.56, -1)) # round to the 10's place"
      ],
      "metadata": {
        "colab": {
          "base_uri": "https://localhost:8080/"
        },
        "id": "zbwj3X3CTtwt",
        "outputId": "c319d43f-c1a1-4a0f-ae6e-f873c396e1c7"
      },
      "execution_count": 31,
      "outputs": [
        {
          "output_type": "stream",
          "name": "stdout",
          "text": [
            "round(23.256) 240.0\n"
          ]
        }
      ]
    },
    {
      "cell_type": "markdown",
      "source": [
        "### Floor and ceil"
      ],
      "metadata": {
        "id": "2QdOna0NT1LW"
      }
    },
    {
      "cell_type": "code",
      "source": [
        "math.floor(2.8)"
      ],
      "metadata": {
        "colab": {
          "base_uri": "https://localhost:8080/"
        },
        "id": "7s0Be6IIT0us",
        "outputId": "740ecc5e-4a71-41f1-8486-269f7af0ef39"
      },
      "execution_count": 32,
      "outputs": [
        {
          "output_type": "execute_result",
          "data": {
            "text/plain": [
              "2"
            ]
          },
          "metadata": {},
          "execution_count": 32
        }
      ]
    },
    {
      "cell_type": "code",
      "source": [
        "math.ceil(2.8)"
      ],
      "metadata": {
        "colab": {
          "base_uri": "https://localhost:8080/"
        },
        "id": "zDEbD9tzT7Yz",
        "outputId": "03350ba0-306b-48ee-c8fd-e42635a79885"
      },
      "execution_count": 33,
      "outputs": [
        {
          "output_type": "execute_result",
          "data": {
            "text/plain": [
              "3"
            ]
          },
          "metadata": {},
          "execution_count": 33
        }
      ]
    }
  ]
}