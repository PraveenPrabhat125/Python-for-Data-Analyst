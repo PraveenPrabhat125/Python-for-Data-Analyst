{
  "nbformat": 4,
  "nbformat_minor": 0,
  "metadata": {
    "colab": {
      "provenance": [],
      "authorship_tag": "ABX9TyN21rdzf4xbGwlzpGzqn7yX",
      "include_colab_link": true
    },
    "kernelspec": {
      "name": "python3",
      "display_name": "Python 3"
    },
    "language_info": {
      "name": "python"
    }
  },
  "cells": [
    {
      "cell_type": "markdown",
      "metadata": {
        "id": "view-in-github",
        "colab_type": "text"
      },
      "source": [
        "<a href=\"https://colab.research.google.com/github/PraveenPrabhat125/Python-for-Data-Analyst/blob/main/Python_for_data_analyst_Variables.ipynb\" target=\"_parent\"><img src=\"https://colab.research.google.com/assets/colab-badge.svg\" alt=\"Open In Colab\"/></a>"
      ]
    },
    {
      "cell_type": "markdown",
      "source": [
        "## Variables"
      ],
      "metadata": {
        "id": "mB3TN-KPX2ll"
      }
    },
    {
      "cell_type": "code",
      "execution_count": 2,
      "metadata": {
        "colab": {
          "base_uri": "https://localhost:8080/"
        },
        "id": "6lC62w5nXw7X",
        "outputId": "f351e822-b343-4439-88ab-4599682c0b30"
      },
      "outputs": [
        {
          "output_type": "stream",
          "name": "stdout",
          "text": [
            "3\n",
            "6\n",
            "Data\n"
          ]
        }
      ],
      "source": [
        "x = 3\n",
        "y = 6\n",
        "name = \"Data\"\n",
        "print(x)\n",
        "print(y)\n",
        "print(name)"
      ]
    },
    {
      "cell_type": "code",
      "source": [
        "old = 4\n",
        "print(old)\n",
        "\n",
        "old = 5\n",
        "print(old)"
      ],
      "metadata": {
        "colab": {
          "base_uri": "https://localhost:8080/"
        },
        "id": "TD7vDaYXX4d-",
        "outputId": "ab203624-9c54-4541-fcf9-7e8e9d3e49ba"
      },
      "execution_count": 3,
      "outputs": [
        {
          "output_type": "stream",
          "name": "stdout",
          "text": [
            "4\n",
            "5\n"
          ]
        }
      ]
    },
    {
      "cell_type": "code",
      "source": [
        "# You can assign the same object to multip;e variables with a multiple assignment statement.\n",
        "m = n = 2\n",
        "print(n)\n",
        "print(m)\n"
      ],
      "metadata": {
        "colab": {
          "base_uri": "https://localhost:8080/"
        },
        "id": "vlgrSXBLYbXz",
        "outputId": "081e0973-ea71-4f53-a424-1037ce72cd83"
      },
      "execution_count": 5,
      "outputs": [
        {
          "output_type": "stream",
          "name": "stdout",
          "text": [
            "2\n",
            "2\n"
          ]
        }
      ]
    },
    {
      "cell_type": "markdown",
      "source": [
        "You can also assign several different variables at the same time using a comma separated sequence of variable names followed by the assignment operator and a comma separated sequence of values inside parentheses:"
      ],
      "metadata": {
        "id": "rAenpr6lZQKm"
      }
    },
    {
      "cell_type": "code",
      "source": [
        "x, y, z = (1,2,3)\n",
        "print(x)\n",
        "print(y)\n",
        "print(z)\n",
        "\n"
      ],
      "metadata": {
        "colab": {
          "base_uri": "https://localhost:8080/"
        },
        "id": "_l4_oXgMZREG",
        "outputId": "6258d9b7-c9bc-4aaa-d5b0-74f8072c50e9"
      },
      "execution_count": 6,
      "outputs": [
        {
          "output_type": "stream",
          "name": "stdout",
          "text": [
            "1\n",
            "2\n",
            "3\n"
          ]
        }
      ]
    },
    {
      "cell_type": "markdown",
      "source": [
        "### Note: Tuple unpacking\n",
        "This method of extracting variables from a comma separated sequence is known as \"tuple unpacking.\"\n",
        "\n",
        "You can swap the values of two variables using a similar syntax:"
      ],
      "metadata": {
        "id": "5rdWj_07Zj2l"
      }
    },
    {
      "cell_type": "code",
      "source": [
        "a , b = (10,20)\n",
        "print(a)\n",
        "print(b)\n"
      ],
      "metadata": {
        "colab": {
          "base_uri": "https://localhost:8080/"
        },
        "id": "Gsbzqzg6Zp1A",
        "outputId": "114906ed-e009-476d-cc14-4b9c3cca8e78"
      },
      "execution_count": 7,
      "outputs": [
        {
          "output_type": "stream",
          "name": "stdout",
          "text": [
            "10\n",
            "20\n"
          ]
        }
      ]
    },
    {
      "cell_type": "code",
      "source": [
        "(a,b) = (b, a)\n",
        "print(a)\n",
        "print(b)"
      ],
      "metadata": {
        "colab": {
          "base_uri": "https://localhost:8080/"
        },
        "id": "DCjnSQ82Zx25",
        "outputId": "e1503cfd-4210-4c79-8e54-237bed0cec8f"
      },
      "execution_count": 8,
      "outputs": [
        {
          "output_type": "stream",
          "name": "stdout",
          "text": [
            "20\n",
            "10\n"
          ]
        }
      ]
    },
    {
      "cell_type": "markdown",
      "source": [
        "In this case, x and y still both refer to the same original list, so both x and y have the same value, even though it may appear that the code only added the number 4 to list y."
      ],
      "metadata": {
        "id": "AWTZoJJdZxTe"
      }
    },
    {
      "cell_type": "code",
      "source": [
        "x = [1,2,3]\n",
        "print('Old x: ', x)\n",
        "y = x # y have same memory address as of x tuple\n",
        "\n",
        "y.append(4)\n",
        "print('New x: ', x)\n",
        "print('New y: ', y)"
      ],
      "metadata": {
        "colab": {
          "base_uri": "https://localhost:8080/"
        },
        "id": "QUhd1yeCaheX",
        "outputId": "c6e2566c-5bc2-427f-8e1b-cd5cacdb1b3d"
      },
      "execution_count": 11,
      "outputs": [
        {
          "output_type": "stream",
          "name": "stdout",
          "text": [
            "Old x:  [1, 2, 3]\n",
            "New x:  [1, 2, 3, 4]\n",
            "New y:  [1, 2, 3, 4]\n"
          ]
        }
      ]
    },
    {
      "cell_type": "code",
      "source": [
        "x = [1,2,3]\n",
        "print('Old x: ', x)\n",
        "y = x # y,z have same memory address as of x tuple\n",
        "z = y\n",
        "y.append(4)\n",
        "z.append(5)\n",
        "print('New x: ', x)\n",
        "print('New y: ', y)\n",
        "print('New z: ', z)"
      ],
      "metadata": {
        "colab": {
          "base_uri": "https://localhost:8080/"
        },
        "id": "-ByY9kzVbnmG",
        "outputId": "c4b2753e-8902-421d-f526-48b49ba610a0"
      },
      "execution_count": 18,
      "outputs": [
        {
          "output_type": "stream",
          "name": "stdout",
          "text": [
            "Old x:  [1, 2, 3]\n",
            "New x:  [1, 2, 3, 4, 5]\n",
            "New y:  [1, 2, 3, 4, 5]\n",
            "New z:  [1, 2, 3, 4, 5]\n"
          ]
        }
      ]
    },
    {
      "cell_type": "code",
      "source": [
        "new = \"Hello\"\n",
        "new_1 = new\n",
        "print(new)\n",
        "print(new_1.lower())\n",
        "print(new_1)"
      ],
      "metadata": {
        "colab": {
          "base_uri": "https://localhost:8080/"
        },
        "id": "-1I-hdRRbGi-",
        "outputId": "231e0461-d8a0-4c9b-bd53-dcfe1cb73b2b"
      },
      "execution_count": 16,
      "outputs": [
        {
          "output_type": "stream",
          "name": "stdout",
          "text": [
            "Hello\n",
            "hello\n",
            "Hello\n"
          ]
        }
      ]
    }
  ]
}