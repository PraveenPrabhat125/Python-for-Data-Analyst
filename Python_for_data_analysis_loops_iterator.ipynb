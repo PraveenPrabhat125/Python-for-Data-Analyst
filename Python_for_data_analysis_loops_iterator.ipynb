{
  "nbformat": 4,
  "nbformat_minor": 0,
  "metadata": {
    "colab": {
      "provenance": [],
      "authorship_tag": "ABX9TyNj2bHHNyKmGAGnLmFoaGjn",
      "include_colab_link": true
    },
    "kernelspec": {
      "name": "python3",
      "display_name": "Python 3"
    },
    "language_info": {
      "name": "python"
    }
  },
  "cells": [
    {
      "cell_type": "markdown",
      "metadata": {
        "id": "view-in-github",
        "colab_type": "text"
      },
      "source": [
        "<a href=\"https://colab.research.google.com/github/PraveenPrabhat125/Python-for-Data-Analyst/blob/main/Python_for_data_analysis_loops_iterator.ipynb\" target=\"_parent\"><img src=\"https://colab.research.google.com/assets/colab-badge.svg\" alt=\"Open In Colab\"/></a>"
      ]
    },
    {
      "cell_type": "markdown",
      "source": [
        "# Control Flow"
      ],
      "metadata": {
        "id": "twP6FxaBLjio"
      }
    },
    {
      "cell_type": "markdown",
      "source": [
        "### If, Else and Elif"
      ],
      "metadata": {
        "id": "NJVLa9HOLvH5"
      }
    },
    {
      "cell_type": "code",
      "execution_count": 2,
      "metadata": {
        "colab": {
          "base_uri": "https://localhost:8080/"
        },
        "id": "MU8xqaTyLeAF",
        "outputId": "5e97f70c-76f3-4609-e006-6823d47e58dd"
      },
      "outputs": [
        {
          "output_type": "stream",
          "name": "stdout",
          "text": [
            "y is smaller then x\n"
          ]
        }
      ],
      "source": [
        "x = 10\n",
        "y = 4\n",
        "z= 3\n",
        "\n",
        "if x < y:\n",
        "  print(\"x is smaller then y\")\n",
        "elif x == y:\n",
        "  print(\"x == y\")\n",
        "else:\n",
        "    print(\"y is smaller then x\")"
      ]
    },
    {
      "cell_type": "markdown",
      "source": [
        "# For Loops¶\n",
        "For loops are a programming construct that let you go through each item in a sequence and then perform some operation on each one. For instance, you could use a for loop to go through all the values in a list, tuple, dictionary or series and check whether each conforms to some logical expression or print the value to the console.\n",
        "\n",
        "Create a for loop using the following syntax:"
      ],
      "metadata": {
        "id": "jdFrsVs2MS1s"
      }
    },
    {
      "cell_type": "code",
      "source": [
        "my_seq = list(range(0, 101, 10))\n",
        "my_seq"
      ],
      "metadata": {
        "colab": {
          "base_uri": "https://localhost:8080/"
        },
        "id": "remaog2kMVGo",
        "outputId": "5f772fdf-cb76-4d26-fc27-bce34a387045"
      },
      "execution_count": 5,
      "outputs": [
        {
          "output_type": "execute_result",
          "data": {
            "text/plain": [
              "[0, 10, 20, 30, 40, 50, 60, 70, 80, 90, 100]"
            ]
          },
          "metadata": {},
          "execution_count": 5
        }
      ]
    },
    {
      "cell_type": "code",
      "source": [
        "for num in my_seq:\n",
        "  print(num + 1)"
      ],
      "metadata": {
        "colab": {
          "base_uri": "https://localhost:8080/"
        },
        "id": "wF9sN3-bMiaW",
        "outputId": "0a3af0c6-f717-4cad-a86a-c7f28ec76b11"
      },
      "execution_count": 6,
      "outputs": [
        {
          "output_type": "stream",
          "name": "stdout",
          "text": [
            "1\n",
            "11\n",
            "21\n",
            "31\n",
            "41\n",
            "51\n",
            "61\n",
            "71\n",
            "81\n",
            "91\n",
            "101\n"
          ]
        }
      ]
    },
    {
      "cell_type": "markdown",
      "source": [
        "### continue\n",
        "In each iteration of the loop, the variable \"number\" takes on the value of the next item in the sequence.\n",
        "\n",
        "For loops support a few special keywords that help you control the flow of the loop: continue and break.\n",
        "\n",
        "The continue keyword causes a for loop to skip the current iteration and go to the next one:"
      ],
      "metadata": {
        "id": "NSNiy-8WMwc3"
      }
    },
    {
      "cell_type": "code",
      "source": [
        "for num in my_seq:\n",
        "  if(num > 50):\n",
        "    continue\n",
        "  else:\n",
        "    print(num)"
      ],
      "metadata": {
        "colab": {
          "base_uri": "https://localhost:8080/"
        },
        "id": "HA0XvENAMufI",
        "outputId": "84242b41-e2fb-4d01-d550-1e7977e82f54"
      },
      "execution_count": 7,
      "outputs": [
        {
          "output_type": "stream",
          "name": "stdout",
          "text": [
            "0\n",
            "10\n",
            "20\n",
            "30\n",
            "40\n",
            "50\n"
          ]
        }
      ]
    },
    {
      "cell_type": "markdown",
      "source": [
        "### Break\n",
        "The \"break\" keyword halts the execution of a for loop entirely. Use break to \"break out\" of a loop:"
      ],
      "metadata": {
        "id": "Ue4aKzAJNCcw"
      }
    },
    {
      "cell_type": "code",
      "source": [
        "for num in my_seq:\n",
        "  if(num > 50):\n",
        "    break\n",
        "  else:\n",
        "    print(num)"
      ],
      "metadata": {
        "colab": {
          "base_uri": "https://localhost:8080/"
        },
        "id": "iU_fIxUdNEQX",
        "outputId": "82b8683c-12f4-4189-986c-fe4ff1f5bb05"
      },
      "execution_count": 8,
      "outputs": [
        {
          "output_type": "stream",
          "name": "stdout",
          "text": [
            "0\n",
            "10\n",
            "20\n",
            "30\n",
            "40\n",
            "50\n"
          ]
        }
      ]
    },
    {
      "cell_type": "markdown",
      "source": [
        "## While Loops\n",
        "While loops are similar to for loops in that they allow you to execute code over and over again. For loops execute their contents, at most, a number of iterations equal to the length of the sequence you are looping over. While loops, on the other hand, keep executing their contents as long as a logical expression you supply remains true:"
      ],
      "metadata": {
        "id": "PhMpc3iQNVkO"
      }
    },
    {
      "cell_type": "code",
      "source": [
        "x = 10\n",
        "temp = 0\n",
        "\n",
        "while(temp < x):\n",
        "  print(temp)\n",
        "  temp += 1\n"
      ],
      "metadata": {
        "colab": {
          "base_uri": "https://localhost:8080/"
        },
        "id": "KotrWlkONZNc",
        "outputId": "ddb9b568-6917-4d54-fc65-03f57be0374c"
      },
      "execution_count": 9,
      "outputs": [
        {
          "output_type": "stream",
          "name": "stdout",
          "text": [
            "0\n",
            "1\n",
            "2\n",
            "3\n",
            "4\n",
            "5\n",
            "6\n",
            "7\n",
            "8\n",
            "9\n"
          ]
        }
      ]
    },
    {
      "cell_type": "markdown",
      "source": [
        "although you can use a while loop to do anything a for loop can do, it is best to use for loops whenever you want to perform a specific number of operations, such as when running some code on each item in a sequence. While loops should be reserved for cases where you don't know how many times you will need to execute a loop."
      ],
      "metadata": {
        "id": "aPUOYEjYOBVJ"
      }
    },
    {
      "cell_type": "code",
      "source": [
        "import numpy as np\n",
        "\n",
        "m_d = np.random.uniform(-1, 1, 10)\n",
        "m_d\n",
        "\n",
        "m_d = np.random.random()\n",
        "m_d"
      ],
      "metadata": {
        "colab": {
          "base_uri": "https://localhost:8080/"
        },
        "id": "WHZE5L8qOEoP",
        "outputId": "614656e1-2d8f-4a82-e1d2-65fa205d373d"
      },
      "execution_count": 14,
      "outputs": [
        {
          "output_type": "execute_result",
          "data": {
            "text/plain": [
              "0.8360072849759508"
            ]
          },
          "metadata": {},
          "execution_count": 14
        }
      ]
    },
    {
      "cell_type": "markdown",
      "source": [
        "## Random ()"
      ],
      "metadata": {
        "id": "Jk6mubYvPfqe"
      }
    },
    {
      "cell_type": "code",
      "source": [
        "r_num = np.random.random()\n",
        "print(r_num)\n",
        "\n",
        "# Generate a random integer between low (inclusive) and high (exclusive)\n",
        "random_int = np.random.randint(1, 10)\n",
        "print(random_int)\n",
        "\n",
        "# Generate an array of random floats\n",
        "r_array = np.random.random(size=(3,3,))\n",
        "print(r_array)\n",
        "\n",
        "\n",
        "# Generate an array of random floats\n",
        "r_array = np.random.randint(1, 10 , size=(3,3,))\n",
        "print(r_array)"
      ],
      "metadata": {
        "colab": {
          "base_uri": "https://localhost:8080/"
        },
        "id": "h8CQL9GZPhh7",
        "outputId": "a4f64ceb-ecb8-4352-9fdf-3b528a066704"
      },
      "execution_count": 22,
      "outputs": [
        {
          "output_type": "stream",
          "name": "stdout",
          "text": [
            "0.4970448729401823\n",
            "6\n",
            "[[0.57530862 0.02770303 0.31649316]\n",
            " [0.11296508 0.97310617 0.69999875]\n",
            " [0.17711657 0.02058239 0.22632318]]\n",
            "[[8 3 9]\n",
            " [5 7 6]\n",
            " [5 6 1]]\n"
          ]
        }
      ]
    },
    {
      "cell_type": "code",
      "source": [
        "my_data = np.random.uniform(-1, 1, 25)\n",
        "\n",
        "for index, num in  enumerate(my_data):\n",
        "  print(index)\n",
        "  if num < 0:\n",
        "    my_data[index] = 0\n",
        "print(my_data)"
      ],
      "metadata": {
        "colab": {
          "base_uri": "https://localhost:8080/"
        },
        "id": "xm4Ks7bXQ3CJ",
        "outputId": "be3a50d4-4cad-4659-a0b6-e6ea1a9b0e33"
      },
      "execution_count": 27,
      "outputs": [
        {
          "output_type": "stream",
          "name": "stdout",
          "text": [
            "0\n",
            "1\n",
            "2\n",
            "3\n",
            "4\n",
            "5\n",
            "6\n",
            "7\n",
            "8\n",
            "9\n",
            "10\n",
            "11\n",
            "12\n",
            "13\n",
            "14\n",
            "15\n",
            "16\n",
            "17\n",
            "18\n",
            "19\n",
            "20\n",
            "21\n",
            "22\n",
            "23\n",
            "24\n",
            "[0.35291032 0.94543471 0.20333553 0.         0.4351275  0.\n",
            " 0.         0.         0.38764103 0.         0.60389449 0.\n",
            " 0.5642449  0.         0.         0.41929145 0.         0.\n",
            " 0.         0.14859851 0.2563028  0.         0.         0.\n",
            " 0.36835255]\n"
          ]
        }
      ]
    },
    {
      "cell_type": "markdown",
      "source": [
        "## enumerate\n",
        "Note: \"enumerate\" takes a sequence and turns it into a sequence of (index, value) tuples; enumerate() lets you loop over the items in a sequence while also having access the item's index.\n",
        "\n",
        "Using a for loop to perform this sort of operation requires writing quite a bit of code and for loops are not particularly fast because they have to operate on each item in a sequence one at a time.\n",
        "\n",
        "Numpy includes a function called where() that lets you perform an if/else check on a sequence with less code:"
      ],
      "metadata": {
        "id": "hFareFDKSHcg"
      }
    },
    {
      "cell_type": "code",
      "source": [
        "my_data = np.random.uniform(-1, 1, 25)\n",
        "\n",
        "for index, num in my_data:\n",
        "  print(index)\n",
        "  if num < 0:\n",
        "    my_data[index] = 0\n",
        "print(my_data)"
      ],
      "metadata": {
        "colab": {
          "base_uri": "https://localhost:8080/",
          "height": 211
        },
        "id": "q7Z4lLqGRt61",
        "outputId": "5771f86c-f331-407d-dc8e-3172ddb0aa84"
      },
      "execution_count": 29,
      "outputs": [
        {
          "output_type": "error",
          "ename": "TypeError",
          "evalue": "cannot unpack non-iterable numpy.float64 object",
          "traceback": [
            "\u001b[0;31m---------------------------------------------------------------------------\u001b[0m",
            "\u001b[0;31mTypeError\u001b[0m                                 Traceback (most recent call last)",
            "\u001b[0;32m<ipython-input-29-68ca49f5ff63>\u001b[0m in \u001b[0;36m<cell line: 3>\u001b[0;34m()\u001b[0m\n\u001b[1;32m      1\u001b[0m \u001b[0mmy_data\u001b[0m \u001b[0;34m=\u001b[0m \u001b[0mnp\u001b[0m\u001b[0;34m.\u001b[0m\u001b[0mrandom\u001b[0m\u001b[0;34m.\u001b[0m\u001b[0muniform\u001b[0m\u001b[0;34m(\u001b[0m\u001b[0;34m-\u001b[0m\u001b[0;36m1\u001b[0m\u001b[0;34m,\u001b[0m \u001b[0;36m1\u001b[0m\u001b[0;34m,\u001b[0m \u001b[0;36m25\u001b[0m\u001b[0;34m)\u001b[0m\u001b[0;34m\u001b[0m\u001b[0;34m\u001b[0m\u001b[0m\n\u001b[1;32m      2\u001b[0m \u001b[0;34m\u001b[0m\u001b[0m\n\u001b[0;32m----> 3\u001b[0;31m \u001b[0;32mfor\u001b[0m \u001b[0mindex\u001b[0m\u001b[0;34m,\u001b[0m \u001b[0mnum\u001b[0m \u001b[0;32min\u001b[0m \u001b[0mmy_data\u001b[0m\u001b[0;34m:\u001b[0m\u001b[0;34m\u001b[0m\u001b[0;34m\u001b[0m\u001b[0m\n\u001b[0m\u001b[1;32m      4\u001b[0m   \u001b[0mprint\u001b[0m\u001b[0;34m(\u001b[0m\u001b[0mindex\u001b[0m\u001b[0;34m)\u001b[0m\u001b[0;34m\u001b[0m\u001b[0;34m\u001b[0m\u001b[0m\n\u001b[1;32m      5\u001b[0m   \u001b[0;32mif\u001b[0m \u001b[0mnum\u001b[0m \u001b[0;34m<\u001b[0m \u001b[0;36m0\u001b[0m\u001b[0;34m:\u001b[0m\u001b[0;34m\u001b[0m\u001b[0;34m\u001b[0m\u001b[0m\n",
            "\u001b[0;31mTypeError\u001b[0m: cannot unpack non-iterable numpy.float64 object"
          ]
        }
      ]
    },
    {
      "cell_type": "code",
      "source": [
        "new_data = np.random.uniform(-1,1,25)\n",
        "new_data"
      ],
      "metadata": {
        "colab": {
          "base_uri": "https://localhost:8080/"
        },
        "id": "yYvC5wLESLh0",
        "outputId": "c7a1d855-60fd-4f66-8a85-6eeb2c8c111f"
      },
      "execution_count": 35,
      "outputs": [
        {
          "output_type": "execute_result",
          "data": {
            "text/plain": [
              "array([ 0.49376583, -0.66804004,  0.93318265,  0.37262138, -0.95218781,\n",
              "       -0.13456638, -0.10396252, -0.24211579, -0.50782279,  0.67005486,\n",
              "        0.14861159, -0.18453567,  0.84178859, -0.06891479, -0.47829862,\n",
              "        0.96291085,  0.50148666,  0.89129753, -0.4904988 , -0.4233368 ,\n",
              "        0.85658516,  0.62903155,  0.68622406,  0.70710338,  0.63290792])"
            ]
          },
          "metadata": {},
          "execution_count": 35
        }
      ]
    },
    {
      "cell_type": "code",
      "source": [
        "new_data1 = np.where(new_data < 0, 0, new_data)\n",
        "new_data1"
      ],
      "metadata": {
        "colab": {
          "base_uri": "https://localhost:8080/"
        },
        "id": "_pOQNJoOSa5_",
        "outputId": "7585c887-665f-439a-aff9-3032a6ff98d9"
      },
      "execution_count": 37,
      "outputs": [
        {
          "output_type": "execute_result",
          "data": {
            "text/plain": [
              "array([0.49376583, 0.        , 0.93318265, 0.37262138, 0.        ,\n",
              "       0.        , 0.        , 0.        , 0.        , 0.67005486,\n",
              "       0.14861159, 0.        , 0.84178859, 0.        , 0.        ,\n",
              "       0.96291085, 0.50148666, 0.89129753, 0.        , 0.        ,\n",
              "       0.85658516, 0.62903155, 0.68622406, 0.70710338, 0.63290792])"
            ]
          },
          "metadata": {},
          "execution_count": 37
        }
      ]
    },
    {
      "cell_type": "code",
      "source": [],
      "metadata": {
        "id": "-fHg4vFeS3zv"
      },
      "execution_count": null,
      "outputs": []
    }
  ]
}