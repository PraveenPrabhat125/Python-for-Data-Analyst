{
  "nbformat": 4,
  "nbformat_minor": 0,
  "metadata": {
    "colab": {
      "provenance": [],
      "authorship_tag": "ABX9TyOeFjq+BhkNz+mQAsMmQy0J",
      "include_colab_link": true
    },
    "kernelspec": {
      "name": "python3",
      "display_name": "Python 3"
    },
    "language_info": {
      "name": "python"
    }
  },
  "cells": [
    {
      "cell_type": "markdown",
      "metadata": {
        "id": "view-in-github",
        "colab_type": "text"
      },
      "source": [
        "<a href=\"https://colab.research.google.com/github/PraveenPrabhat125/Python-for-Data-Analyst/blob/main/Python_for_data_analyst_List_tuples_DS.ipynb\" target=\"_parent\"><img src=\"https://colab.research.google.com/assets/colab-badge.svg\" alt=\"Open In Colab\"/></a>"
      ]
    },
    {
      "cell_type": "markdown",
      "source": [
        "## List\n",
        "A list is a mutable, ordered collection of objects. \"Mutable\" means a list can be altered after it is created. You can, for example, add new items to a list or remove existing items. Lists are heterogeneous, meaning they can hold objects of different types.\n",
        "\n",
        "Construct a list with a comma separated sequence of objects within square brackets:"
      ],
      "metadata": {
        "id": "13_046KWfOke"
      }
    },
    {
      "cell_type": "code",
      "execution_count": 3,
      "metadata": {
        "colab": {
          "base_uri": "https://localhost:8080/"
        },
        "id": "_WUQ9uybcGUy",
        "outputId": "082c8d2c-bf3a-4694-cdd7-ba02435cd4ed"
      },
      "outputs": [
        {
          "output_type": "execute_result",
          "data": {
            "text/plain": [
              "[1, 2, 'Hello', '1', True]"
            ]
          },
          "metadata": {},
          "execution_count": 3
        }
      ],
      "source": [
        "My_list = [1,2, 'Hello', '1', True]\n",
        "My_list"
      ]
    },
    {
      "cell_type": "code",
      "source": [
        "sec_list = list('No Data Science')\n",
        "print(sec_list)"
      ],
      "metadata": {
        "colab": {
          "base_uri": "https://localhost:8080/"
        },
        "id": "RZ9U7mEQfuSV",
        "outputId": "34651365-8a1d-43af-cee2-b657a4eabd9c"
      },
      "execution_count": 5,
      "outputs": [
        {
          "output_type": "stream",
          "name": "stdout",
          "text": [
            "['N', 'o', ' ', 'D', 'a', 't', 'a', ' ', 'S', 'c', 'i', 'e', 'n', 'c', 'e']\n"
          ]
        }
      ]
    },
    {
      "cell_type": "code",
      "source": [
        "# emplty list\n",
        "l1 = []\n",
        "print(l1)"
      ],
      "metadata": {
        "colab": {
          "base_uri": "https://localhost:8080/"
        },
        "id": "Jfuyzhulf_CU",
        "outputId": "14e5f36d-f61d-4066-9cb3-731cf122a7aa"
      },
      "execution_count": 10,
      "outputs": [
        {
          "output_type": "stream",
          "name": "stdout",
          "text": [
            "[]\n"
          ]
        }
      ]
    },
    {
      "cell_type": "code",
      "source": [
        "l2 = \"Append string\"\n",
        "l1.append(l2)\n",
        "print(l1)\n",
        "print(l2)\n"
      ],
      "metadata": {
        "colab": {
          "base_uri": "https://localhost:8080/"
        },
        "id": "-KTegGVVgDK7",
        "outputId": "bdb6fc2e-6418-427e-f196-03b05dcd06e2"
      },
      "execution_count": 11,
      "outputs": [
        {
          "output_type": "stream",
          "name": "stdout",
          "text": [
            "['Append string']\n",
            "Append string\n"
          ]
        }
      ]
    },
    {
      "cell_type": "markdown",
      "source": [
        "Remove a matching item from a list with list.remove():"
      ],
      "metadata": {
        "id": "4fOA0DyMgbsK"
      }
    },
    {
      "cell_type": "code",
      "source": [
        "My_list.append('Lamborgini')\n",
        "print(My_list)\n",
        "\n",
        "print(My_list)\n",
        "My_list.remove('Lamborgini')\n"
      ],
      "metadata": {
        "colab": {
          "base_uri": "https://localhost:8080/"
        },
        "id": "BfRbhwiJgVVz",
        "outputId": "d8aa8ef1-847f-423b-892c-233d127926f9"
      },
      "execution_count": 18,
      "outputs": [
        {
          "output_type": "stream",
          "name": "stdout",
          "text": [
            "[2, 'Hello', '1', 'Lamborgini', 'Lamborgini', 'Lamborgini', 'Lamborgini']\n",
            "[2, 'Hello', '1', 'Lamborgini', 'Lamborgini', 'Lamborgini', 'Lamborgini']\n"
          ]
        }
      ]
    },
    {
      "cell_type": "code",
      "source": [
        "My_list.remove('Lamborgini')\n",
        "My_list"
      ],
      "metadata": {
        "colab": {
          "base_uri": "https://localhost:8080/"
        },
        "id": "2AqSmYnEg4Dr",
        "outputId": "fb45afb2-2e71-4b33-9af5-efb59d6e9066"
      },
      "execution_count": 20,
      "outputs": [
        {
          "output_type": "execute_result",
          "data": {
            "text/plain": [
              "[2, 'Hello', '1', 'Lamborgini']"
            ]
          },
          "metadata": {},
          "execution_count": 20
        }
      ]
    },
    {
      "cell_type": "code",
      "source": [
        "x = [1,2,3,4,5, \"Hello\", 'World']\n",
        "y = ['New', 'list']"
      ],
      "metadata": {
        "id": "xHHLw49ahIXv"
      },
      "execution_count": 28,
      "outputs": []
    },
    {
      "cell_type": "code",
      "source": [
        "print(x)\n",
        "print(y)\n",
        "\n",
        "z =  x + y\n",
        "print(z)\n",
        "\n",
        "x.append(z)\n",
        "print(x)"
      ],
      "metadata": {
        "colab": {
          "base_uri": "https://localhost:8080/"
        },
        "id": "YwhuoYhQhSeu",
        "outputId": "9ce9a436-9081-4b23-e754-d9b904fc5849"
      },
      "execution_count": 29,
      "outputs": [
        {
          "output_type": "stream",
          "name": "stdout",
          "text": [
            "[1, 2, 3, 4, 5, 'Hello', 'World']\n",
            "['New', 'list']\n",
            "[1, 2, 3, 4, 5, 'Hello', 'World', 'New', 'list']\n",
            "[1, 2, 3, 4, 5, 'Hello', 'World', [1, 2, 3, 4, 5, 'Hello', 'World', 'New', 'list']]\n"
          ]
        }
      ]
    },
    {
      "cell_type": "markdown",
      "source": [
        "Check the length, maximum, minimum and sum of a list with the len(), max(), min() and sum() functions, respectively."
      ],
      "metadata": {
        "id": "U6vcuS6ih-IF"
      }
    },
    {
      "cell_type": "code",
      "source": [
        "num_list = [1,2,3,4,5]\n",
        "print( len(num_list))                # Check the length\n",
        "print( max(num_list))                # Check the max\n",
        "print( min(num_list))                # Check the min\n",
        "print( sum(num_list))                # Check the sum\n",
        "print( sum(num_list)/len(num_list))  # Check the mean*"
      ],
      "metadata": {
        "colab": {
          "base_uri": "https://localhost:8080/"
        },
        "id": "u8f1jyLOh6-D",
        "outputId": "12098425-bd5c-424d-ea2a-05b9b06f6463"
      },
      "execution_count": 30,
      "outputs": [
        {
          "output_type": "stream",
          "name": "stdout",
          "text": [
            "5\n",
            "5\n",
            "1\n",
            "15\n",
            "3.0\n"
          ]
        }
      ]
    },
    {
      "cell_type": "markdown",
      "source": [
        "Note: Python does not have a built in function to calculate the mean, but the numpy library we will introduce in upcoming lessons does.\n",
        "\n",
        "You can check whether a list contains a certain object with the \"in\" keyword:"
      ],
      "metadata": {
        "id": "c1jFM_T6iNXl"
      }
    },
    {
      "cell_type": "code",
      "source": [
        "num_list.append(1)\n",
        "print(num_list)\n",
        "1 in num_list"
      ],
      "metadata": {
        "colab": {
          "base_uri": "https://localhost:8080/"
        },
        "id": "6jXi8WPTiOCI",
        "outputId": "58b8e507-6870-48c3-c42f-f9f68b626959"
      },
      "execution_count": 33,
      "outputs": [
        {
          "output_type": "stream",
          "name": "stdout",
          "text": [
            "[1, 2, 3, 4, 5, 1, 1]\n"
          ]
        },
        {
          "output_type": "execute_result",
          "data": {
            "text/plain": [
              "True"
            ]
          },
          "metadata": {},
          "execution_count": 33
        }
      ]
    },
    {
      "cell_type": "code",
      "source": [
        "1 not in num_list"
      ],
      "metadata": {
        "colab": {
          "base_uri": "https://localhost:8080/"
        },
        "id": "BJyK-kNPifw7",
        "outputId": "2fb0ef91-caa5-4d78-936b-563c32fe218a"
      },
      "execution_count": 34,
      "outputs": [
        {
          "output_type": "execute_result",
          "data": {
            "text/plain": [
              "False"
            ]
          },
          "metadata": {},
          "execution_count": 34
        }
      ]
    },
    {
      "cell_type": "code",
      "source": [
        "num_list.count(1)"
      ],
      "metadata": {
        "colab": {
          "base_uri": "https://localhost:8080/"
        },
        "id": "LbalJ2PAih1m",
        "outputId": "bbd178ad-a18e-4101-a328-88eed5f87fca"
      },
      "execution_count": 35,
      "outputs": [
        {
          "output_type": "execute_result",
          "data": {
            "text/plain": [
              "3"
            ]
          },
          "metadata": {},
          "execution_count": 35
        }
      ]
    },
    {
      "cell_type": "markdown",
      "source": [
        "### REverse and sort the list"
      ],
      "metadata": {
        "id": "sjik3SWqilnu"
      }
    },
    {
      "cell_type": "code",
      "source": [
        "new_list = [1, 5, 4, 2, 3, 6]      # Make a new list\n",
        "\n",
        "xx = new_list.reverse()               # Reverse the list\n",
        "print(\"Reversed list\", xx)\n",
        "\n",
        "yy = new_list.sort()                    # Sort the list\n",
        "print(\"Sorted list\", yy)\n",
        "\n",
        "type(xx)\n",
        "type(yy)"
      ],
      "metadata": {
        "colab": {
          "base_uri": "https://localhost:8080/"
        },
        "id": "dphOz_zLioE0",
        "outputId": "3520a263-95af-4e09-a73a-bb789d239cec"
      },
      "execution_count": 45,
      "outputs": [
        {
          "output_type": "stream",
          "name": "stdout",
          "text": [
            "Reversed list None\n",
            "Sorted list None\n"
          ]
        },
        {
          "output_type": "execute_result",
          "data": {
            "text/plain": [
              "NoneType"
            ]
          },
          "metadata": {},
          "execution_count": 45
        }
      ]
    },
    {
      "cell_type": "code",
      "source": [
        "new_list = [1, 5, 4, 2, 3, 6]      # Make a new list\n",
        "\n",
        "new_list.reverse()                 # Reverse the list\n",
        "print(\"Reversed list\", new_list)\n",
        "\n",
        "new_list.sort()                    # Sort the list\n",
        "print(\"Sorted list\", new_list)"
      ],
      "metadata": {
        "colab": {
          "base_uri": "https://localhost:8080/"
        },
        "id": "-lazxc6BkBed",
        "outputId": "7d87210a-1dc2-4ff6-c29b-dcee4ce53d47"
      },
      "execution_count": 48,
      "outputs": [
        {
          "output_type": "stream",
          "name": "stdout",
          "text": [
            "Reversed list [6, 3, 2, 4, 5, 1]\n",
            "Sorted list [1, 2, 3, 4, 5, 6]\n"
          ]
        }
      ]
    },
    {
      "cell_type": "markdown",
      "source": [
        "## List Indexing and Slicing\n",
        "Lists and other Python sequences are indexed, meaning each position in the sequence has a corresponding number called the index that you can use to look up the value at that position. Python sequences are zero-indexed, so the first element of a sequence is at index position zero, the second element is at index 1 and so on. Retrieve an item from a list by placing the index in square brackets after the name of the list:"
      ],
      "metadata": {
        "id": "3Mufp3Q4ka0V"
      }
    },
    {
      "cell_type": "code",
      "source": [
        "a_list = ['Hello', 'My', 'old', 'Friend']\n",
        "\n",
        "print(a_list[0])\n",
        "print(a_list[1])\n",
        "\n",
        "# Length of list\n",
        "print(len(a_list))"
      ],
      "metadata": {
        "colab": {
          "base_uri": "https://localhost:8080/"
        },
        "id": "ckJUnM88kERQ",
        "outputId": "635e4086-463b-4074-876e-ec8dc3b2e90b"
      },
      "execution_count": 53,
      "outputs": [
        {
          "output_type": "stream",
          "name": "stdout",
          "text": [
            "Hello\n",
            "My\n",
            "4\n"
          ]
        }
      ]
    },
    {
      "cell_type": "markdown",
      "source": [
        "t accesses items starting from the end of the list (-1) going backward:"
      ],
      "metadata": {
        "id": "8cuGyEjuk4fw"
      }
    },
    {
      "cell_type": "code",
      "source": [
        "b_list = a_list\n",
        "print(a_list[-1])\n",
        "print(a_list[-2])\n",
        "\n",
        "\n",
        "print(b_list[-1])\n",
        "print(b_list[-2])\n"
      ],
      "metadata": {
        "colab": {
          "base_uri": "https://localhost:8080/"
        },
        "id": "4S0niQeik6Ks",
        "outputId": "a25b1b8d-c299-4f73-c54c-6b890cf909dc"
      },
      "execution_count": 55,
      "outputs": [
        {
          "output_type": "stream",
          "name": "stdout",
          "text": [
            "Friend\n",
            "old\n",
            "Friend\n",
            "old\n"
          ]
        }
      ]
    },
    {
      "cell_type": "markdown",
      "source": [
        "Supplying an index outside of a lists range will result in an IndexError:"
      ],
      "metadata": {
        "id": "nSHbG7CYlPjB"
      }
    },
    {
      "cell_type": "code",
      "source": [
        "print(a_list[6])"
      ],
      "metadata": {
        "colab": {
          "base_uri": "https://localhost:8080/",
          "height": 141
        },
        "id": "V1c0tUuplPDr",
        "outputId": "a2a26249-1996-496d-d558-db4aad96d7f7"
      },
      "execution_count": 56,
      "outputs": [
        {
          "output_type": "error",
          "ename": "IndexError",
          "evalue": "list index out of range",
          "traceback": [
            "\u001b[0;31m---------------------------------------------------------------------------\u001b[0m",
            "\u001b[0;31mIndexError\u001b[0m                                Traceback (most recent call last)",
            "\u001b[0;32m<ipython-input-56-1153bb881f87>\u001b[0m in \u001b[0;36m<cell line: 1>\u001b[0;34m()\u001b[0m\n\u001b[0;32m----> 1\u001b[0;31m \u001b[0mprint\u001b[0m\u001b[0;34m(\u001b[0m\u001b[0ma_list\u001b[0m\u001b[0;34m[\u001b[0m\u001b[0;36m6\u001b[0m\u001b[0;34m]\u001b[0m\u001b[0;34m)\u001b[0m\u001b[0;34m\u001b[0m\u001b[0;34m\u001b[0m\u001b[0m\n\u001b[0m",
            "\u001b[0;31mIndexError\u001b[0m: list index out of range"
          ]
        }
      ]
    },
    {
      "cell_type": "markdown",
      "source": [
        "## nested objects\n",
        "If your list contains other indexed objects, you can supply additional indexes to get items contained within the nested objects:"
      ],
      "metadata": {
        "id": "jLvDB3C0lVpX"
      }
    },
    {
      "cell_type": "code",
      "source": [
        "a = [1,2,3]\n",
        "b = [4,5,6]\n",
        "c = [7,8,9]\n",
        "\n",
        "abc_list = []\n",
        "print(abc_list)\n",
        "\n",
        "abc_list.append(a)\n",
        "print(abc_list)"
      ],
      "metadata": {
        "colab": {
          "base_uri": "https://localhost:8080/"
        },
        "id": "NVQsyRfVlY8P",
        "outputId": "b5452f78-0287-420a-c3cf-eecf17d6acac"
      },
      "execution_count": 58,
      "outputs": [
        {
          "output_type": "stream",
          "name": "stdout",
          "text": [
            "[]\n",
            "[[1, 2, 3]]\n"
          ]
        }
      ]
    },
    {
      "cell_type": "code",
      "source": [
        "abc_list.append(b)\n",
        "print(abc_list)\n",
        "\n",
        "abc_list.append(c)\n",
        "print(abc_list)"
      ],
      "metadata": {
        "colab": {
          "base_uri": "https://localhost:8080/"
        },
        "id": "TOaRhJ6TmCsw",
        "outputId": "6ccf697d-f4d7-4977-d810-01082d0008cf"
      },
      "execution_count": 59,
      "outputs": [
        {
          "output_type": "stream",
          "name": "stdout",
          "text": [
            "[[1, 2, 3], [4, 5, 6]]\n",
            "[[1, 2, 3], [4, 5, 6], [7, 8, 9]]\n"
          ]
        }
      ]
    },
    {
      "cell_type": "code",
      "source": [
        "# indexing\n",
        "print(abc_list[0][0])\n",
        "\n",
        "print(abc_list[2][2])"
      ],
      "metadata": {
        "colab": {
          "base_uri": "https://localhost:8080/"
        },
        "id": "T4Xx4ph9mHNu",
        "outputId": "e312b695-4beb-4d7b-b1a1-750dc4936a8d"
      },
      "execution_count": 66,
      "outputs": [
        {
          "output_type": "stream",
          "name": "stdout",
          "text": [
            "1\n",
            "9\n"
          ]
        }
      ]
    },
    {
      "cell_type": "code",
      "source": [
        "# slicing\n",
        "print(abc_list[:])\n",
        "\n",
        "print(abc_list[1:])\n",
        "\n",
        "print(abc_list[1:2])"
      ],
      "metadata": {
        "colab": {
          "base_uri": "https://localhost:8080/"
        },
        "id": "rOE6Bt1KmqwA",
        "outputId": "a490db8c-c1da-4a14-e572-6af0c920dfdf"
      },
      "execution_count": 70,
      "outputs": [
        {
          "output_type": "stream",
          "name": "stdout",
          "text": [
            "[[1, 2, 3], [4, 5, 6], [7, 8, 9]]\n",
            "[[4, 5, 6], [7, 8, 9]]\n",
            "[[4, 5, 6]]\n"
          ]
        }
      ]
    },
    {
      "cell_type": "code",
      "source": [
        "# Slice the entire list but use step size 2 to get every other item:\n",
        "another_list = abc_list[0:6:2]\n",
        "print(another_list)"
      ],
      "metadata": {
        "colab": {
          "base_uri": "https://localhost:8080/"
        },
        "id": "S3SFo_u5m_tY",
        "outputId": "14861d3a-28e0-4162-ffe0-352a2e7f38f9"
      },
      "execution_count": 71,
      "outputs": [
        {
          "output_type": "stream",
          "name": "stdout",
          "text": [
            "[[1, 2, 3], [7, 8, 9]]\n"
          ]
        }
      ]
    },
    {
      "cell_type": "code",
      "source": [
        "another_list = [\"Hello\",\"my\", \"bestest\", \"old\", \"friend.\"]"
      ],
      "metadata": {
        "id": "CTIES8nGnbQY"
      },
      "execution_count": 72,
      "outputs": []
    },
    {
      "cell_type": "code",
      "source": [
        "print(another_list[:])\n",
        "\n",
        "print(another_list[:-1])"
      ],
      "metadata": {
        "colab": {
          "base_uri": "https://localhost:8080/"
        },
        "id": "JqVRaXo1ncSW",
        "outputId": "81d70ebd-9b9f-4c45-b0cb-f725c6cf5080"
      },
      "execution_count": 75,
      "outputs": [
        {
          "output_type": "stream",
          "name": "stdout",
          "text": [
            "['friend.', 'old', 'bestest', 'my', 'Hello']\n",
            "['friend.', 'old', 'bestest', 'my']\n"
          ]
        }
      ]
    },
    {
      "cell_type": "code",
      "source": [
        "slice1 = another_list[1:3]\n",
        "print(slice1)"
      ],
      "metadata": {
        "colab": {
          "base_uri": "https://localhost:8080/"
        },
        "id": "ZznnuFdinsmg",
        "outputId": "88786ce1-6709-4b1e-8cbf-8d9b46a942d9"
      },
      "execution_count": 76,
      "outputs": [
        {
          "output_type": "stream",
          "name": "stdout",
          "text": [
            "['old', 'bestest']\n"
          ]
        }
      ]
    },
    {
      "cell_type": "code",
      "source": [
        "# Take a slice starting at index 4, backward to index 2\n",
        "\n",
        "my_slice =  another_list[4:2:-1]\n",
        "print(my_slice )"
      ],
      "metadata": {
        "colab": {
          "base_uri": "https://localhost:8080/"
        },
        "id": "4eORLZzln0cx",
        "outputId": "439ec077-37ae-4fe6-b4a6-4ff2a8549b94"
      },
      "execution_count": 77,
      "outputs": [
        {
          "output_type": "stream",
          "name": "stdout",
          "text": [
            "['Hello', 'my']\n"
          ]
        }
      ]
    },
    {
      "cell_type": "code",
      "source": [
        "my_slice =  another_list[::-1] # This slice operation reverses the list\n",
        "print(my_slice)"
      ],
      "metadata": {
        "colab": {
          "base_uri": "https://localhost:8080/"
        },
        "id": "sktzpWwWn80-",
        "outputId": "6c0d7c7d-d15a-4335-850f-34dfeb933e6b"
      },
      "execution_count": 81,
      "outputs": [
        {
          "output_type": "stream",
          "name": "stdout",
          "text": [
            "['Hello', 'New_addition', 'bestest', 'old', 'friend.']\n"
          ]
        }
      ]
    },
    {
      "cell_type": "code",
      "source": [
        "print(another_list[:])\n",
        "another_list[3] = \"New_addition\"\n",
        "print(another_list[:])"
      ],
      "metadata": {
        "colab": {
          "base_uri": "https://localhost:8080/"
        },
        "id": "4mz6p8uooCkp",
        "outputId": "aeb1234f-df93-48a7-de6d-35c504ac4edd"
      },
      "execution_count": 82,
      "outputs": [
        {
          "output_type": "stream",
          "name": "stdout",
          "text": [
            "['friend.', 'old', 'bestest', 'New_addition', 'Hello']\n",
            "['friend.', 'old', 'bestest', 'New_addition', 'Hello']\n"
          ]
        }
      ]
    },
    {
      "cell_type": "code",
      "source": [
        "another_list.append('Python')\n",
        "another_list.append('Python1')\n",
        "# del(another_list[3])\n",
        "print(another_list[:])"
      ],
      "metadata": {
        "colab": {
          "base_uri": "https://localhost:8080/"
        },
        "id": "2oc2zgjJoP2d",
        "outputId": "c04a7f29-3f1d-4fe7-e25e-0775717a0c20"
      },
      "execution_count": 87,
      "outputs": [
        {
          "output_type": "stream",
          "name": "stdout",
          "text": [
            "['friend.', 'old', 'bestest', 'Python', 'Python1']\n"
          ]
        }
      ]
    },
    {
      "cell_type": "code",
      "source": [
        "del(another_list[3])\n",
        "another_list"
      ],
      "metadata": {
        "colab": {
          "base_uri": "https://localhost:8080/"
        },
        "id": "KJMN6EBPold-",
        "outputId": "beb078dd-700f-4085-f7aa-bd180fa20891"
      },
      "execution_count": 89,
      "outputs": [
        {
          "output_type": "execute_result",
          "data": {
            "text/plain": [
              "['friend.', 'old', 'bestest']"
            ]
          },
          "metadata": {},
          "execution_count": 89
        }
      ]
    },
    {
      "cell_type": "code",
      "source": [
        "another_list.append('Python')\n",
        "another_list.append('Python1')\n",
        "\n",
        "pop_item = another_list.pop()\n",
        "print(another_list)\n",
        "print(pop_item)\n"
      ],
      "metadata": {
        "colab": {
          "base_uri": "https://localhost:8080/"
        },
        "id": "QSyBHuC7ory2",
        "outputId": "66547585-2483-4dd7-927f-8c5d7ba42c80"
      },
      "execution_count": 92,
      "outputs": [
        {
          "output_type": "stream",
          "name": "stdout",
          "text": [
            "['friend.', 'old', 'bestest', 'Python', 'Python1', 'Python', 'Python']\n",
            "Python1\n"
          ]
        }
      ]
    },
    {
      "cell_type": "markdown",
      "source": [
        "## Copy\n",
        "In the code above, we saw that we can slice an entire list using the [:] indexing operation. You can also copy a list using the list.copy() function:"
      ],
      "metadata": {
        "id": "1LuGKAywo3Kd"
      }
    },
    {
      "cell_type": "code",
      "source": [
        "List1 = [1,2,3]\n",
        "print(List1)\n",
        "\n",
        "list2 = List1.copy()\n",
        "print(list2)"
      ],
      "metadata": {
        "colab": {
          "base_uri": "https://localhost:8080/"
        },
        "id": "s1pcYSXWo8_P",
        "outputId": "69e06df8-9cd6-469c-e96a-f67f112ba1d7"
      },
      "execution_count": 96,
      "outputs": [
        {
          "output_type": "stream",
          "name": "stdout",
          "text": [
            "[1, 2, 3]\n",
            "[1, 2, 3]\n"
          ]
        }
      ]
    },
    {
      "cell_type": "code",
      "source": [
        "list2.append(4)\n",
        "print(List1)\n",
        "print(list2)"
      ],
      "metadata": {
        "colab": {
          "base_uri": "https://localhost:8080/"
        },
        "id": "oXcI06hEpMA9",
        "outputId": "a16b795f-1acf-4fed-8f58-3f6fc5571f84"
      },
      "execution_count": 98,
      "outputs": [
        {
          "output_type": "stream",
          "name": "stdout",
          "text": [
            "[1, 2, 3]\n",
            "[1, 2, 3, 4]\n"
          ]
        }
      ]
    },
    {
      "cell_type": "markdown",
      "source": [
        "## Shallow copies\n",
        "As expected, the copy was not affected by the append operation we performed on the original list. The copy function (and slicing an entire list with [:]) creates what is known as a \"shallow copy.\" A shallow copy makes a new list where each list element refers to the object at the same position (index) in the original list. This is fine when the list is contains immutable objects like ints, floats and strings, since they cannot change. Shallow copies can however, have undesired consequences when copying lists that contain mutable container objects, such as other lists.\n",
        "\n",
        "Consider the following copy operation"
      ],
      "metadata": {
        "id": "-n0uDK-GpuOK"
      }
    },
    {
      "cell_type": "code",
      "source": [
        "list1 = [1,2,3]                        # Make a list\n",
        "list2 = [\"List within a list\", list1]  # Nest it in another list\n",
        "\n",
        "list3 = list2.copy() # shallow copy [address is shared ]\n",
        "\n",
        "print(\"Before appending to list1:\")\n",
        "print(\"List2:\", list2)\n",
        "print(\"List3:\", list3, \"\\n\")\n",
        "\n",
        "list1.append(4)                        # Add an item to list1\n",
        "print(\"After appending to list1:\")\n",
        "print(\"List2:\", list2)\n",
        "print(\"List3:\", list3)"
      ],
      "metadata": {
        "colab": {
          "base_uri": "https://localhost:8080/"
        },
        "id": "Bj3UzEEQpx0U",
        "outputId": "ba82a180-f8f5-49ee-c7bb-98e3d756aebc"
      },
      "execution_count": 99,
      "outputs": [
        {
          "output_type": "stream",
          "name": "stdout",
          "text": [
            "Before appending to list1:\n",
            "List2: ['List within a list', [1, 2, 3]]\n",
            "List3: ['List within a list', [1, 2, 3]] \n",
            "\n",
            "After appending to list1:\n",
            "List2: ['List within a list', [1, 2, 3, 4]]\n",
            "List3: ['List within a list', [1, 2, 3, 4]]\n"
          ]
        }
      ]
    },
    {
      "cell_type": "markdown",
      "source": [
        "## deepcopy\n",
        "Notice that when we use a shallow copy on list2, the second element of list2 and its copy both refer to list1. Thus, when we append a new value into list1, the second element of list2 and the copy, list3, both change. When you are working with nested lists, you have to make a \"deepcopy\" if you want to truly copy nested objects in the original to avoid this behavior of shallow copies.\n",
        "\n",
        "You can make a deep copy using the deepcopy() function in the copy library:"
      ],
      "metadata": {
        "id": "JJ6COk-iqVL0"
      }
    },
    {
      "cell_type": "code",
      "source": [
        "import copy                            # Load the copy module\n",
        "\n",
        "list1 = [1,2,3]                        # Make a list\n",
        "\n",
        "list2 = [\"List within a list\", list1]  # Shallo copy : Nest it in another list\n",
        "\n",
        "list3 = copy.deepcopy(list2)           # Deep copy list2\n",
        "\n",
        "print(\"Before appending to list1:\")\n",
        "print(\"List2:\", list2)\n",
        "print(\"List3:\", list3, \"\\n\")\n",
        "\n",
        "list1.append(4)                        # Add an item to list1\n",
        "print(\"After appending to list1:\")\n",
        "print(\"List2:\", list2)\n",
        "print(\"List3:\", list3)"
      ],
      "metadata": {
        "colab": {
          "base_uri": "https://localhost:8080/"
        },
        "id": "FKpE2ppQqYFh",
        "outputId": "85234ce7-5382-4b30-c371-68b202ab553f"
      },
      "execution_count": 101,
      "outputs": [
        {
          "output_type": "stream",
          "name": "stdout",
          "text": [
            "Before appending to list1:\n",
            "List2: ['List within a list', [1, 2, 3]]\n",
            "List3: ['List within a list', [1, 2, 3]] \n",
            "\n",
            "After appending to list1:\n",
            "List2: ['List within a list', [1, 2, 3, 4]]\n",
            "List3: ['List within a list', [1, 2, 3]]\n"
          ]
        }
      ]
    }
  ]
}