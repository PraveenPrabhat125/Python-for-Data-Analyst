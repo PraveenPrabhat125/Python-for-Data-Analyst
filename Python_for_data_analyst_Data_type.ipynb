{
  "nbformat": 4,
  "nbformat_minor": 0,
  "metadata": {
    "colab": {
      "provenance": [],
      "authorship_tag": "ABX9TyPliN2djlxYUPRJti+ehWF1",
      "include_colab_link": true
    },
    "kernelspec": {
      "name": "python3",
      "display_name": "Python 3"
    },
    "language_info": {
      "name": "python"
    }
  },
  "cells": [
    {
      "cell_type": "markdown",
      "metadata": {
        "id": "view-in-github",
        "colab_type": "text"
      },
      "source": [
        "<a href=\"https://colab.research.google.com/github/PraveenPrabhat125/Python-for-Data-Analyst/blob/main/Python_for_data_analyst_Data_type.ipynb\" target=\"_parent\"><img src=\"https://colab.research.google.com/assets/colab-badge.svg\" alt=\"Open In Colab\"/></a>"
      ]
    },
    {
      "cell_type": "markdown",
      "source": [
        "### Integer"
      ],
      "metadata": {
        "id": "h8FE7QyAU5Qk"
      }
    },
    {
      "cell_type": "code",
      "execution_count": 2,
      "metadata": {
        "colab": {
          "base_uri": "https://localhost:8080/"
        },
        "id": "XdkbpcxfUv-O",
        "outputId": "da1535cf-f62d-4163-ebac-d9dfcf9f5e9e"
      },
      "outputs": [
        {
          "output_type": "execute_result",
          "data": {
            "text/plain": [
              "int"
            ]
          },
          "metadata": {},
          "execution_count": 2
        }
      ],
      "source": [
        "12\n",
        "type(12)"
      ]
    },
    {
      "cell_type": "markdown",
      "source": [
        "### Flots"
      ],
      "metadata": {
        "id": "BEIGzlkKVXjo"
      }
    },
    {
      "cell_type": "code",
      "source": [
        "type(1/3)"
      ],
      "metadata": {
        "colab": {
          "base_uri": "https://localhost:8080/"
        },
        "id": "9aL30uafVTxD",
        "outputId": "6e6d2af9-e963-4711-f235-6d2f69eac85d"
      },
      "execution_count": 3,
      "outputs": [
        {
          "output_type": "execute_result",
          "data": {
            "text/plain": [
              "float"
            ]
          },
          "metadata": {},
          "execution_count": 3
        }
      ]
    },
    {
      "cell_type": "code",
      "source": [
        "type(1.22)"
      ],
      "metadata": {
        "colab": {
          "base_uri": "https://localhost:8080/"
        },
        "id": "hyvKBQ68VZzO",
        "outputId": "2478211c-4291-4fcb-afab-662c359d1dd2"
      },
      "execution_count": 4,
      "outputs": [
        {
          "output_type": "execute_result",
          "data": {
            "text/plain": [
              "float"
            ]
          },
          "metadata": {},
          "execution_count": 4
        }
      ]
    },
    {
      "cell_type": "code",
      "source": [
        "print('type(5 + 1.2)', type(5 + 1.2))"
      ],
      "metadata": {
        "colab": {
          "base_uri": "https://localhost:8080/"
        },
        "id": "hchip9c5VmL-",
        "outputId": "c26b2dfd-abcf-45db-b614-7c2e4065e861"
      },
      "execution_count": 8,
      "outputs": [
        {
          "output_type": "stream",
          "name": "stdout",
          "text": [
            "type(5 + 1.2) <class 'float'>\n"
          ]
        }
      ]
    },
    {
      "cell_type": "code",
      "source": [
        "# float can be converted to int\n",
        "int(5 + 112.4)"
      ],
      "metadata": {
        "colab": {
          "base_uri": "https://localhost:8080/"
        },
        "id": "Df8sULYyV0rF",
        "outputId": "186f61f2-8927-4cee-e9b7-56158e180407"
      },
      "execution_count": 9,
      "outputs": [
        {
          "output_type": "execute_result",
          "data": {
            "text/plain": [
              "117"
            ]
          },
          "metadata": {},
          "execution_count": 9
        }
      ]
    },
    {
      "cell_type": "code",
      "source": [
        "# int can be converted to flot\n",
        "float(5 + 3)"
      ],
      "metadata": {
        "colab": {
          "base_uri": "https://localhost:8080/"
        },
        "id": "FgoxJaQ8V7x0",
        "outputId": "9bd874e2-abdb-4890-95c0-d646cb66b8cc"
      },
      "execution_count": 11,
      "outputs": [
        {
          "output_type": "execute_result",
          "data": {
            "text/plain": [
              "8.0"
            ]
          },
          "metadata": {},
          "execution_count": 11
        }
      ]
    },
    {
      "cell_type": "markdown",
      "source": [
        "### Booleans\n",
        "1. True\n",
        "2. False"
      ],
      "metadata": {
        "id": "BYHTIS7CWDBt"
      }
    },
    {
      "cell_type": "code",
      "source": [
        "print('True', True)\n",
        "print('False', False)\n",
        "print('bool(1)', bool(1))\n",
        "print('bool(12)', bool(12))\n",
        "print('bool(0)', bool(0))\n",
        "print('bool(-1)', bool(-1))\n"
      ],
      "metadata": {
        "colab": {
          "base_uri": "https://localhost:8080/"
        },
        "id": "-mkJZ0IuWIFS",
        "outputId": "46dd58dd-0984-4389-c5cb-ea36d8ad97c7"
      },
      "execution_count": 17,
      "outputs": [
        {
          "output_type": "stream",
          "name": "stdout",
          "text": [
            "True True\n",
            "False False\n",
            "bool(1) True\n",
            "bool(12) True\n",
            "bool(0) False\n",
            "bool(-1) True\n"
          ]
        }
      ]
    },
    {
      "cell_type": "markdown",
      "source": [
        "### String : anything in \"  \" going to be string eg \"Python\", '1'"
      ],
      "metadata": {
        "id": "5PYV3BZvWsbM"
      }
    },
    {
      "cell_type": "code",
      "source": [
        "type('DATA')\n",
        "type('1')"
      ],
      "metadata": {
        "colab": {
          "base_uri": "https://localhost:8080/"
        },
        "id": "PneY2PO-WsBR",
        "outputId": "424a5af5-3552-4908-d1ba-8a5636ac158e"
      },
      "execution_count": 19,
      "outputs": [
        {
          "output_type": "execute_result",
          "data": {
            "text/plain": [
              "str"
            ]
          },
          "metadata": {},
          "execution_count": 19
        }
      ]
    },
    {
      "cell_type": "code",
      "source": [
        "type(\"\")\n",
        "# Empty string: often represents missing text value"
      ],
      "metadata": {
        "colab": {
          "base_uri": "https://localhost:8080/"
        },
        "id": "H-fPKUfyXGCo",
        "outputId": "27308b28-4f8e-4419-e335-ab243abf1232"
      },
      "execution_count": 21,
      "outputs": [
        {
          "output_type": "execute_result",
          "data": {
            "text/plain": [
              "str"
            ]
          },
          "metadata": {},
          "execution_count": 21
        }
      ]
    },
    {
      "cell_type": "code",
      "source": [
        "type(None)"
      ],
      "metadata": {
        "colab": {
          "base_uri": "https://localhost:8080/"
        },
        "id": "yGDBemK4XRhP",
        "outputId": "7a23231a-9ea1-4570-986d-c1ea93e63b90"
      },
      "execution_count": 22,
      "outputs": [
        {
          "output_type": "execute_result",
          "data": {
            "text/plain": [
              "NoneType"
            ]
          },
          "metadata": {},
          "execution_count": 22
        }
      ]
    },
    {
      "cell_type": "code",
      "source": [],
      "metadata": {
        "id": "XfufOTLjXa50"
      },
      "execution_count": null,
      "outputs": []
    }
  ]
}