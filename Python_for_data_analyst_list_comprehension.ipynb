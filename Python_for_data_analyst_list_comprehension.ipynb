{
  "nbformat": 4,
  "nbformat_minor": 0,
  "metadata": {
    "colab": {
      "provenance": [],
      "authorship_tag": "ABX9TyP4LdjXrVRgHbyUDjBsAWxG",
      "include_colab_link": true
    },
    "kernelspec": {
      "name": "python3",
      "display_name": "Python 3"
    },
    "language_info": {
      "name": "python"
    }
  },
  "cells": [
    {
      "cell_type": "markdown",
      "metadata": {
        "id": "view-in-github",
        "colab_type": "text"
      },
      "source": [
        "<a href=\"https://colab.research.google.com/github/PraveenPrabhat125/Python-for-Data-Analyst/blob/main/Python_for_data_analyst_list_comprehension.ipynb\" target=\"_parent\"><img src=\"https://colab.research.google.com/assets/colab-badge.svg\" alt=\"Open In Colab\"/></a>"
      ]
    },
    {
      "cell_type": "markdown",
      "source": [
        "## List Comprehensions\n",
        "back to index\n",
        "\n",
        "Python prides itself on its clean, readable code and making it as simple as possible for you to do the things you want to do. Although basic control flow statements and functions have enough power to express virtually any program, Python includes many convenience functions and constructs to let you do things faster and with less code.\n",
        "\n",
        "Populating lists and dictionaries is a common task that can be achieved with the loops we learned about in lesson 11. For instance, if we wanted to populate a list with the numbers 0 through 100, we could initialize an empty list as a container, run a for loop over the range of numbers from 0 to 100, and append each number to the list:"
      ],
      "metadata": {
        "id": "-lVl0iJ6SmNx"
      }
    },
    {
      "cell_type": "code",
      "execution_count": 1,
      "metadata": {
        "colab": {
          "base_uri": "https://localhost:8080/"
        },
        "id": "4G7ds1YvSHfX",
        "outputId": "72ec2e33-67f2-47aa-8ebe-a56d39856f3a"
      },
      "outputs": [
        {
          "output_type": "stream",
          "name": "stdout",
          "text": [
            "[0, 1, 2, 3, 4, 5, 6, 7, 8, 9, 10, 11, 12, 13, 14, 15, 16, 17, 18, 19, 20, 21, 22, 23, 24, 25, 26, 27, 28, 29, 30, 31, 32, 33, 34, 35, 36, 37, 38, 39, 40, 41, 42, 43, 44, 45, 46, 47, 48, 49, 50, 51, 52, 53, 54, 55, 56, 57, 58, 59, 60, 61, 62, 63, 64, 65, 66, 67, 68, 69, 70, 71, 72, 73, 74, 75, 76, 77, 78, 79, 80, 81, 82, 83, 84, 85, 86, 87, 88, 89, 90, 91, 92, 93, 94, 95, 96, 97, 98, 99, 100]\n"
          ]
        }
      ],
      "source": [
        "my_list = []\n",
        "\n",
        "for num in range(0, 101):\n",
        "  my_list.append(num)\n",
        "print(my_list)"
      ]
    },
    {
      "cell_type": "markdown",
      "source": [
        "Note: range() creates a sequence of numbers from some specified starting number up to but not including an ending number. It also takes an optional argument for the step (counting increment) which defaults to 1.\n",
        "\n",
        "The  above works, but it is unnecessarily verbose. List comprehensions provide a way to do these sorts of constructions efficiently with less code."
      ],
      "metadata": {
        "id": "9_-LEQLjS9nV"
      }
    },
    {
      "cell_type": "code",
      "source": [
        "\n",
        "my_list2 = [number for number in range(0, 11)]\n",
        "my_list2"
      ],
      "metadata": {
        "colab": {
          "base_uri": "https://localhost:8080/"
        },
        "id": "H9xhVwKoS-L1",
        "outputId": "0030f1b3-0021-4874-9171-6c7c535a084b"
      },
      "execution_count": 3,
      "outputs": [
        {
          "output_type": "execute_result",
          "data": {
            "text/plain": [
              "[0, 1, 2, 3, 4, 5, 6, 7, 8, 9, 10]"
            ]
          },
          "metadata": {},
          "execution_count": 3
        }
      ]
    },
    {
      "cell_type": "markdown",
      "source": [
        "## Note:\n",
        " In a list comprehension, the value that you want to append to the list come first, in this case \"number\", followed by a for statement that mirrors the one we used in the for loop version of the code. You can optionally include if clauses after the for clause to filter the results based on some logical check. For instance, we could add an if statement to filter out odd numbers:"
      ],
      "metadata": {
        "id": "r0QWgCOsUBOI"
      }
    },
    {
      "cell_type": "code",
      "source": [
        "my_list3 = [ mirror_val for mirror_val in range(0, 11)]\n",
        "print(my_list3)\n",
        "\n",
        "# condition along with loop\n",
        "my_list3 = [ mirror_val for mirror_val in range(0, 11) if mirror_val % 2 == 0]\n",
        "print(my_list3)\n",
        "\n",
        "# using step argument in range (start, end+1, step )\n",
        "my_list3 = [ mirror_val for mirror_val in range(0, 11, 2) ]\n",
        "print(my_list3)\n"
      ],
      "metadata": {
        "colab": {
          "base_uri": "https://localhost:8080/"
        },
        "id": "8G11xQHWUFKV",
        "outputId": "dd15f4da-c730-4923-9685-63beeab6aa2c"
      },
      "execution_count": 8,
      "outputs": [
        {
          "output_type": "stream",
          "name": "stdout",
          "text": [
            "[0, 1, 2, 3, 4, 5, 6, 7, 8, 9, 10]\n",
            "[0, 2, 4, 6, 8, 10]\n",
            "[0, 2, 4, 6, 8, 10]\n"
          ]
        }
      ]
    },
    {
      "cell_type": "markdown",
      "source": [
        "In the code above we take all the numbers in the range for which the number modulus 2 (the remainder when divided by 2) is equal to zero, which returns all the even numbers in the range.\n",
        "\n",
        "### Note:\n",
        "You could also get even numbers in a range more by including a step argument equal to 2 such as: range(0,101,2)\n",
        "\n",
        "### Note:\n",
        "It is possible to put more than one for loop in a list comprehension, such as to construct a list from two different iterables. For instance, if we wanted to make a list of each combination of two letters in two different strings we could do it with a list comprehension over the two strings with two for clauses:"
      ],
      "metadata": {
        "id": "S9lRjAyTU6-l"
      }
    },
    {
      "cell_type": "code",
      "source": [
        "combine = [a for a in \"Mike\"]\n",
        "print(combine)\n",
        "\n",
        "\n",
        "combine = [a+b for a in \"Mike\" for b in \"Nancy\"]\n",
        "print(combine)\n"
      ],
      "metadata": {
        "colab": {
          "base_uri": "https://localhost:8080/"
        },
        "id": "lV7NS_9OVAuP",
        "outputId": "0fbf373f-29a9-4c10-86ac-da662b50fdf0"
      },
      "execution_count": 11,
      "outputs": [
        {
          "output_type": "stream",
          "name": "stdout",
          "text": [
            "['M', 'i', 'k', 'e']\n",
            "['MN', 'Ma', 'Mn', 'Mc', 'My', 'iN', 'ia', 'in', 'ic', 'iy', 'kN', 'ka', 'kn', 'kc', 'ky', 'eN', 'ea', 'en', 'ec', 'ey']\n"
          ]
        }
      ]
    },
    {
      "cell_type": "markdown",
      "source": [
        "### Note\n",
        "You also can nest one list comprehension inside of another:"
      ],
      "metadata": {
        "id": "kpM7h8SDVneK"
      }
    },
    {
      "cell_type": "code",
      "source": [
        "combine = [a for a in \"Mike\" for b in \"Nancy\"]\n",
        "print(combine)\n",
        "print(len(combine))\n",
        "\n",
        "# combination of a and b\n",
        "combine = [a+b for a in \"Mike\" for b in \"Nancy\"]\n",
        "print(combine)\n",
        "print(len(combine))\n",
        "\n",
        "# nested list comprehension\n",
        "# we are takeing the 2nd letter of each combination\n",
        "combine = [letters[1] for letters in [a + b for a in \"Mike\" for b in \"Nancy\"]]\n",
        "print(combine)\n",
        "print(len(combine))\n"
      ],
      "metadata": {
        "colab": {
          "base_uri": "https://localhost:8080/"
        },
        "id": "cFlJ-Q07VqXn",
        "outputId": "f114235d-9672-461e-8b6b-3f98d64693a5"
      },
      "execution_count": 16,
      "outputs": [
        {
          "output_type": "stream",
          "name": "stdout",
          "text": [
            "['M', 'M', 'M', 'M', 'M', 'i', 'i', 'i', 'i', 'i', 'k', 'k', 'k', 'k', 'k', 'e', 'e', 'e', 'e', 'e']\n",
            "20\n",
            "['MN', 'Ma', 'Mn', 'Mc', 'My', 'iN', 'ia', 'in', 'ic', 'iy', 'kN', 'ka', 'kn', 'kc', 'ky', 'eN', 'ea', 'en', 'ec', 'ey']\n",
            "20\n",
            "['N', 'a', 'n', 'c', 'y', 'N', 'a', 'n', 'c', 'y', 'N', 'a', 'n', 'c', 'y', 'N', 'a', 'n', 'c', 'y']\n",
            "20\n"
          ]
        }
      ]
    },
    {
      "cell_type": "markdown",
      "source": [
        "Notice that while you can nest list comprehensions to achieve a lot in a single line of code, doing so can lead to long, verbose and potentially confusing code. It is often better to avoid the temptation to create convoluted \"one-liners\" when a series of a few shorter, more readable operations will yield the same result:"
      ],
      "metadata": {
        "id": "LX9SSHYZWrK7"
      }
    },
    {
      "cell_type": "markdown",
      "source": [
        "## Dictionary Comprehensions\n",
        "You can create dictionaries quickly in one line using a syntax that mirrors list comprehensions. Consider the following dictionary that sets words as keys and their lengths as values:"
      ],
      "metadata": {
        "id": "AljGLuw8WuJu"
      }
    },
    {
      "cell_type": "code",
      "source": [
        "name = [\"Mike\", \"Distin\", \"Lucos\", \"Eleven\", \"Will\"]\n",
        "print(name)\n",
        "\n",
        "# create a empty dictionary\n",
        "my_dict = {}\n",
        "\n",
        "# Create the dictionary with length of words\n",
        "for names in name:\n",
        "  my_dict[names] = len(names)\n",
        "print(my_dict)"
      ],
      "metadata": {
        "colab": {
          "base_uri": "https://localhost:8080/"
        },
        "id": "xJNxMAunWsGC",
        "outputId": "e5872cb7-c61a-416f-9231-aada123b1ab9"
      },
      "execution_count": 19,
      "outputs": [
        {
          "output_type": "stream",
          "name": "stdout",
          "text": [
            "['Mike', 'Distin', 'Lucos', 'Eleven', 'Will']\n",
            "{'Mike': 4, 'Distin': 6, 'Lucos': 5, 'Eleven': 6, 'Will': 4}\n"
          ]
        }
      ]
    },
    {
      "cell_type": "markdown",
      "source": [
        "We could make the same dictionary using a dictionary comprehension where the key and value come first in the form key:value, followed a for clause that loops over some sequence:"
      ],
      "metadata": {
        "id": "W44Tm5E0XYOJ"
      }
    },
    {
      "cell_type": "code",
      "source": [
        "my_dict1 = {mirror_names: len(mirror_names) for mirror_names in name}\n",
        "print(my_dict1)"
      ],
      "metadata": {
        "colab": {
          "base_uri": "https://localhost:8080/"
        },
        "id": "NjINhOSeXafi",
        "outputId": "6481c0d7-6d9f-47bf-e2c2-900680704d22"
      },
      "execution_count": 21,
      "outputs": [
        {
          "output_type": "stream",
          "name": "stdout",
          "text": [
            "{'Mike': 4, 'Distin': 6, 'Lucos': 5, 'Eleven': 6, 'Will': 4}\n"
          ]
        }
      ]
    },
    {
      "cell_type": "markdown",
      "source": [
        "### Zip(): to combine two values\n",
        "It is common to create a dictionary from the items in two different ordered sequences, where one sequence contains the keys you want to use and the other sequence contains the corresponding values. You can pair the items in two sequences into tuples using the built in Python function zip():"
      ],
      "metadata": {
        "id": "y7TEwC9QXzIZ"
      }
    },
    {
      "cell_type": "code",
      "source": [
        "name = [\"Mike\", \"Distin\", \"Lucos\", \"Eleven\", \"Will\"]\n",
        "age = [12, 11, 13, 9, 11]\n",
        "print(name)\n",
        "print(age)\n",
        "\n",
        "# dictionary comprehension\n",
        "my_dict = {m_name: m_age for m_name in name for m_age in age}\n",
        "print(my_dict)\n",
        "\n",
        "# using zip\n",
        "my_new_dict = zip(name, age)\n",
        "print(my_new_dict)\n",
        "\n",
        "for items in my_new_dict:\n",
        "  print(items)\n",
        "  print(my_new_dict[items].values)"
      ],
      "metadata": {
        "colab": {
          "base_uri": "https://localhost:8080/",
          "height": 263
        },
        "id": "JaG_7HWGX9FP",
        "outputId": "f28381d5-612e-4959-b840-febc3536335e"
      },
      "execution_count": 32,
      "outputs": [
        {
          "output_type": "stream",
          "name": "stdout",
          "text": [
            "['Mike', 'Distin', 'Lucos', 'Eleven', 'Will']\n",
            "[12, 11, 13, 9, 11]\n",
            "{'Mike': 11, 'Distin': 11, 'Lucos': 11, 'Eleven': 11, 'Will': 11}\n",
            "<zip object at 0x7eb5b9137700>\n",
            "('Mike', 12)\n"
          ]
        },
        {
          "output_type": "error",
          "ename": "TypeError",
          "evalue": "'zip' object is not subscriptable",
          "traceback": [
            "\u001b[0;31m---------------------------------------------------------------------------\u001b[0m",
            "\u001b[0;31mTypeError\u001b[0m                                 Traceback (most recent call last)",
            "\u001b[0;32m<ipython-input-32-b1f19ffcb928>\u001b[0m in \u001b[0;36m<cell line: 14>\u001b[0;34m()\u001b[0m\n\u001b[1;32m     14\u001b[0m \u001b[0;32mfor\u001b[0m \u001b[0mitems\u001b[0m \u001b[0;32min\u001b[0m \u001b[0mmy_new_dict\u001b[0m\u001b[0;34m:\u001b[0m\u001b[0;34m\u001b[0m\u001b[0;34m\u001b[0m\u001b[0m\n\u001b[1;32m     15\u001b[0m   \u001b[0mprint\u001b[0m\u001b[0;34m(\u001b[0m\u001b[0mitems\u001b[0m\u001b[0;34m)\u001b[0m\u001b[0;34m\u001b[0m\u001b[0;34m\u001b[0m\u001b[0m\n\u001b[0;32m---> 16\u001b[0;31m   \u001b[0mprint\u001b[0m\u001b[0;34m(\u001b[0m\u001b[0mmy_new_dict\u001b[0m\u001b[0;34m[\u001b[0m\u001b[0mitems\u001b[0m\u001b[0;34m]\u001b[0m\u001b[0;34m.\u001b[0m\u001b[0mvalues\u001b[0m\u001b[0;34m)\u001b[0m\u001b[0;34m\u001b[0m\u001b[0;34m\u001b[0m\u001b[0m\n\u001b[0m",
            "\u001b[0;31mTypeError\u001b[0m: 'zip' object is not subscriptable"
          ]
        }
      ]
    },
    {
      "cell_type": "code",
      "source": [
        "name = [\"Mike\", \"Distin\", \"Lucos\", \"Eleven\", \"Will\"]\n",
        "age = [12, 11, 13, 9, 11]\n",
        "print(name)\n",
        "print(age)\n",
        "\n",
        "# using zip\n",
        "my_new_dict1 = zip(name, age)\n",
        "print(my_new_dict1)\n",
        "\n",
        "for key in my_new_dict1:\n",
        "  print(f\"Name: {key}, age: {my_new_dict1[key]}\")"
      ],
      "metadata": {
        "colab": {
          "base_uri": "https://localhost:8080/",
          "height": 228
        },
        "id": "k-SVIAgPZ0bF",
        "outputId": "54879218-456f-4db1-cc1f-88304f1993e0"
      },
      "execution_count": 33,
      "outputs": [
        {
          "output_type": "stream",
          "name": "stdout",
          "text": [
            "['Mike', 'Distin', 'Lucos', 'Eleven', 'Will']\n",
            "[12, 11, 13, 9, 11]\n",
            "<zip object at 0x7eb5c2d7a1c0>\n"
          ]
        },
        {
          "output_type": "error",
          "ename": "TypeError",
          "evalue": "'zip' object is not subscriptable",
          "traceback": [
            "\u001b[0;31m---------------------------------------------------------------------------\u001b[0m",
            "\u001b[0;31mTypeError\u001b[0m                                 Traceback (most recent call last)",
            "\u001b[0;32m<ipython-input-33-4e681b4917c2>\u001b[0m in \u001b[0;36m<cell line: 10>\u001b[0;34m()\u001b[0m\n\u001b[1;32m      9\u001b[0m \u001b[0;34m\u001b[0m\u001b[0m\n\u001b[1;32m     10\u001b[0m \u001b[0;32mfor\u001b[0m \u001b[0mkey\u001b[0m \u001b[0;32min\u001b[0m \u001b[0mmy_new_dict1\u001b[0m\u001b[0;34m:\u001b[0m\u001b[0;34m\u001b[0m\u001b[0;34m\u001b[0m\u001b[0m\n\u001b[0;32m---> 11\u001b[0;31m   \u001b[0mprint\u001b[0m\u001b[0;34m(\u001b[0m\u001b[0;34mf\"Name: {key}, age: {my_new_dict1[key]}\"\u001b[0m\u001b[0;34m)\u001b[0m\u001b[0;34m\u001b[0m\u001b[0;34m\u001b[0m\u001b[0m\n\u001b[0m",
            "\u001b[0;31mTypeError\u001b[0m: 'zip' object is not subscriptable"
          ]
        }
      ]
    },
    {
      "cell_type": "code",
      "source": [
        "name = [\"Mike\", \"Distin\", \"Lucos\", \"Eleven\", \"Will\"]\n",
        "age = [12, 11, 13, 9, 11]\n",
        "print(name)\n",
        "print(age)\n",
        "\n",
        "# using zip\n",
        "my_new_dict1 = dict(zip(name, age))\n",
        "print(my_new_dict1)\n",
        "\n",
        "for key in my_new_dict1:\n",
        "  print(f\"Name: {key}, age: {my_new_dict1[key]}\")"
      ],
      "metadata": {
        "colab": {
          "base_uri": "https://localhost:8080/"
        },
        "id": "21gbhd82abmf",
        "outputId": "f7680dca-edcb-40b0-abc1-c61ba9b66648"
      },
      "execution_count": 38,
      "outputs": [
        {
          "output_type": "stream",
          "name": "stdout",
          "text": [
            "['Mike', 'Distin', 'Lucos', 'Eleven', 'Will']\n",
            "[12, 11, 13, 9, 11]\n",
            "{'Mike': 12, 'Distin': 11, 'Lucos': 13, 'Eleven': 9, 'Will': 11}\n",
            "Name: Mike, age: 12\n",
            "Name: Distin, age: 11\n",
            "Name: Lucos, age: 13\n",
            "Name: Eleven, age: 9\n",
            "Name: Will, age: 11\n"
          ]
        }
      ]
    }
  ]
}