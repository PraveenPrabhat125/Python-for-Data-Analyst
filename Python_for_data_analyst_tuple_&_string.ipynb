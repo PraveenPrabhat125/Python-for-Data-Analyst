{
  "nbformat": 4,
  "nbformat_minor": 0,
  "metadata": {
    "colab": {
      "provenance": [],
      "authorship_tag": "ABX9TyPNU97njEYmvBUIgCOa0I4B",
      "include_colab_link": true
    },
    "kernelspec": {
      "name": "python3",
      "display_name": "Python 3"
    },
    "language_info": {
      "name": "python"
    }
  },
  "cells": [
    {
      "cell_type": "markdown",
      "metadata": {
        "id": "view-in-github",
        "colab_type": "text"
      },
      "source": [
        "<a href=\"https://colab.research.google.com/github/PraveenPrabhat125/Python-for-Data-Analyst/blob/main/Python_for_data_analyst_tuple_%26_string.ipynb\" target=\"_parent\"><img src=\"https://colab.research.google.com/assets/colab-badge.svg\" alt=\"Open In Colab\"/></a>"
      ]
    },
    {
      "cell_type": "markdown",
      "source": [
        "## Tuples\n",
        "Tuples are an immutable sequence data type that are commonly used to hold short collections of related data. For instance, if you wanted to store latitude and longitude coordinates for cities, tuples might be a good choice, because the values are related and not likely to change. Like lists, tuples can store objects of different types.\n",
        "\n",
        "Construct a tuple with a comma separated sequence of objects within parentheses:"
      ],
      "metadata": {
        "id": "N18Tg6SrUG_j"
      }
    },
    {
      "cell_type": "code",
      "execution_count": null,
      "metadata": {
        "id": "5nzz1Q-6Twrk"
      },
      "outputs": [],
      "source": [
        "List = []\n",
        "tuple = ()\n",
        "dictionary  = {}\n"
      ]
    },
    {
      "cell_type": "code",
      "source": [
        "m_tuple = (1,2,4)\n",
        "print(m_tuple)"
      ],
      "metadata": {
        "colab": {
          "base_uri": "https://localhost:8080/"
        },
        "id": "1akuX_CWURWB",
        "outputId": "c6e1e8b8-4e8c-414e-f5b4-577c24ebfe06"
      },
      "execution_count": 1,
      "outputs": [
        {
          "output_type": "stream",
          "name": "stdout",
          "text": [
            "(1, 2, 4)\n"
          ]
        }
      ]
    },
    {
      "cell_type": "markdown",
      "source": [
        "Tuples generally support the same indexing and slicing operations as lists and they also support some of the same functions, with the caveat that tuples cannot be changed after they are created. This means we can do things like find the length, max or min of a tuple, but we can't append new values to them or remove values from them:"
      ],
      "metadata": {
        "id": "NvN6KLR-UioO"
      }
    },
    {
      "cell_type": "code",
      "source": [
        "l1 = [1,2,3,4,'hello']\n",
        "\n",
        "new_tuple = tuple(l1)\n",
        "print(new_tuple)\n",
        "print(type(l1))\n",
        "print(type(new_tuple))\n"
      ],
      "metadata": {
        "colab": {
          "base_uri": "https://localhost:8080/"
        },
        "id": "tBW__ejWUjYl",
        "outputId": "8cfecee7-1f49-49e3-ca0a-2f8b20401fd2"
      },
      "execution_count": 4,
      "outputs": [
        {
          "output_type": "stream",
          "name": "stdout",
          "text": [
            "(1, 2, 3, 4, 'hello')\n",
            "<class 'list'>\n",
            "<class 'tuple'>\n"
          ]
        }
      ]
    },
    {
      "cell_type": "code",
      "source": [
        "new_tuple[2]"
      ],
      "metadata": {
        "colab": {
          "base_uri": "https://localhost:8080/"
        },
        "id": "z34T2_-4U7Pj",
        "outputId": "44cc7030-1b80-4839-c0cf-237f5e17660b"
      },
      "execution_count": 5,
      "outputs": [
        {
          "output_type": "execute_result",
          "data": {
            "text/plain": [
              "3"
            ]
          },
          "metadata": {},
          "execution_count": 5
        }
      ]
    },
    {
      "cell_type": "code",
      "source": [
        "new_tuple[2:]"
      ],
      "metadata": {
        "colab": {
          "base_uri": "https://localhost:8080/"
        },
        "id": "eZta7wxMU_Cq",
        "outputId": "6ae5688a-baa4-4a30-c631-dc48eded364a"
      },
      "execution_count": 6,
      "outputs": [
        {
          "output_type": "execute_result",
          "data": {
            "text/plain": [
              "(3, 4, 'hello')"
            ]
          },
          "metadata": {},
          "execution_count": 6
        }
      ]
    },
    {
      "cell_type": "code",
      "source": [
        "pop_item = new_tuple.pop()\n",
        "pop_itemm"
      ],
      "metadata": {
        "colab": {
          "base_uri": "https://localhost:8080/",
          "height": 158
        },
        "id": "yYJQrkFBVZr4",
        "outputId": "81e6bbaa-b1dc-497b-f7dc-61dfe8b298ae"
      },
      "execution_count": 9,
      "outputs": [
        {
          "output_type": "error",
          "ename": "AttributeError",
          "evalue": "'tuple' object has no attribute 'pop'",
          "traceback": [
            "\u001b[0;31m---------------------------------------------------------------------------\u001b[0m",
            "\u001b[0;31mAttributeError\u001b[0m                            Traceback (most recent call last)",
            "\u001b[0;32m<ipython-input-9-8ea015fe85a4>\u001b[0m in \u001b[0;36m<cell line: 1>\u001b[0;34m()\u001b[0m\n\u001b[0;32m----> 1\u001b[0;31m \u001b[0mpop_item\u001b[0m \u001b[0;34m=\u001b[0m \u001b[0mnew_tuple\u001b[0m\u001b[0;34m.\u001b[0m\u001b[0mpop\u001b[0m\u001b[0;34m(\u001b[0m\u001b[0;34m)\u001b[0m\u001b[0;34m\u001b[0m\u001b[0;34m\u001b[0m\u001b[0m\n\u001b[0m\u001b[1;32m      2\u001b[0m \u001b[0mpop_item\u001b[0m\u001b[0;34m\u001b[0m\u001b[0;34m\u001b[0m\u001b[0m\n",
            "\u001b[0;31mAttributeError\u001b[0m: 'tuple' object has no attribute 'pop'"
          ]
        }
      ]
    },
    {
      "cell_type": "markdown",
      "source": [
        "### How to Remove an Element in a Tuple\n",
        "\n",
        "Since tuples are immutable, you cannot directly remove an element from a tuple. However, you can create a new tuple that excludes the element you want to remove.\n",
        "\n",
        "#### Steps to Remove an Element from a Tuple:\n",
        "\n",
        "1. **Convert the Tuple to a List**: Lists are mutable, so you can remove elements from them.\n",
        "2. **Remove the Element from the List**: Use list methods like `remove()` or slicing.\n",
        "3. **Convert the List Back to a Tuple**: After removing the element, convert the list back to a tuple.\n",
        "\n",
        "#### Example:\n",
        "```python\n",
        "# Original tuple\n",
        "my_tuple = (1, 2, 3, 4, 5)\n",
        "\n",
        "# Convert tuple to list\n",
        "my_list = list(my_tuple)\n",
        "\n",
        "# Remove element (e.g., remove 3)\n",
        "my_list.remove(3)\n",
        "\n",
        "# Convert list back to tuple\n",
        "my_tuple = tuple(my_list)\n",
        "\n",
        "print(my_tuple)  # Output: (1, 2, 4, 5)\n",
        "```\n",
        "\n",
        "#### Using Tuple Slicing:\n",
        "You can also use slicing to create a new tuple without the unwanted element.\n",
        "\n",
        "#### Example:\n",
        "```python\n",
        "# Original tuple\n",
        "my_tuple = (1, 2, 3, 4, 5)\n",
        "\n",
        "# Remove element by slicing (e.g., remove the element at index 2)\n",
        "my_tuple = my_tuple[:2] + my_tuple[3:]\n",
        "\n",
        "print(my_tuple)  # Output: (1, 2, 4, 5)\n",
        "```\n",
        "\n",
        "### Summary:\n",
        "- **Convert to List**: Convert the tuple to a list, remove the element, then convert back to a tuple.\n",
        "- **Tuple Slicing**: Use slicing to create a new tuple excluding the unwanted element.\n",
        "\n",
        "These methods provide ways to \"remove\" an element from a tuple by creating a new modified tuple."
      ],
      "metadata": {
        "id": "diwhGysQV-r8"
      }
    },
    {
      "cell_type": "code",
      "source": [
        "new_tuple\n",
        "print(new_tuple)\n",
        "# convert tuple to list\n",
        "converted_list = list(new_tuple)\n",
        "\n",
        "# new remove element from converted_list\n",
        "poped_item = converted_list.pop()\n",
        "print(poped_item)\n",
        "\n",
        "\n",
        "# convert back list to tuple\n",
        "new_tuple = tuple(converted_list)\n",
        "print(new_tuple)"
      ],
      "metadata": {
        "colab": {
          "base_uri": "https://localhost:8080/"
        },
        "id": "YAbi4Z7RV-ER",
        "outputId": "78d04366-c4df-4822-99f5-e07f8572c502"
      },
      "execution_count": 12,
      "outputs": [
        {
          "output_type": "stream",
          "name": "stdout",
          "text": [
            "(1, 2, 3, 4, 'hello')\n",
            "hello\n",
            "(1, 2, 3, 4)\n"
          ]
        }
      ]
    },
    {
      "cell_type": "code",
      "source": [
        "print(len(new_tuple))  # length\n",
        "print(sum(new_tuple))  # sum\n",
        "print(max(new_tuple))  # max\n",
        "print(min(new_tuple))  # min\n",
        "print(sum(new_tuple)/ len(new_tuple)) #Avg"
      ],
      "metadata": {
        "colab": {
          "base_uri": "https://localhost:8080/"
        },
        "id": "xmScbQOZVCBH",
        "outputId": "00ddec94-e668-435e-cdef-1468cd6a58dc"
      },
      "execution_count": 13,
      "outputs": [
        {
          "output_type": "stream",
          "name": "stdout",
          "text": [
            "4\n",
            "10\n",
            "4\n",
            "1\n",
            "2.5\n"
          ]
        }
      ]
    },
    {
      "cell_type": "markdown",
      "source": [
        "No append and del works"
      ],
      "metadata": {
        "id": "mVb3cmGvWt-W"
      }
    },
    {
      "cell_type": "code",
      "source": [
        "new_tuple.pop()"
      ],
      "metadata": {
        "colab": {
          "base_uri": "https://localhost:8080/",
          "height": 141
        },
        "id": "ZFu5nEQyWwVn",
        "outputId": "9ce190e8-283b-4145-c4c5-6b7cf6ad1150"
      },
      "execution_count": 14,
      "outputs": [
        {
          "output_type": "error",
          "ename": "AttributeError",
          "evalue": "'tuple' object has no attribute 'pop'",
          "traceback": [
            "\u001b[0;31m---------------------------------------------------------------------------\u001b[0m",
            "\u001b[0;31mAttributeError\u001b[0m                            Traceback (most recent call last)",
            "\u001b[0;32m<ipython-input-14-801b65a1fff0>\u001b[0m in \u001b[0;36m<cell line: 1>\u001b[0;34m()\u001b[0m\n\u001b[0;32m----> 1\u001b[0;31m \u001b[0mnew_tuple\u001b[0m\u001b[0;34m.\u001b[0m\u001b[0mpop\u001b[0m\u001b[0;34m(\u001b[0m\u001b[0;34m)\u001b[0m\u001b[0;34m\u001b[0m\u001b[0;34m\u001b[0m\u001b[0m\n\u001b[0m",
            "\u001b[0;31mAttributeError\u001b[0m: 'tuple' object has no attribute 'pop'"
          ]
        }
      ]
    },
    {
      "cell_type": "code",
      "source": [
        "new_tuple.append(11)"
      ],
      "metadata": {
        "colab": {
          "base_uri": "https://localhost:8080/",
          "height": 141
        },
        "id": "YpbT0-BeWy0K",
        "outputId": "2e85d24e-4dc7-4cc1-f358-f65d822dc0d9"
      },
      "execution_count": 15,
      "outputs": [
        {
          "output_type": "error",
          "ename": "AttributeError",
          "evalue": "'tuple' object has no attribute 'append'",
          "traceback": [
            "\u001b[0;31m---------------------------------------------------------------------------\u001b[0m",
            "\u001b[0;31mAttributeError\u001b[0m                            Traceback (most recent call last)",
            "\u001b[0;32m<ipython-input-15-497ee6879177>\u001b[0m in \u001b[0;36m<cell line: 1>\u001b[0;34m()\u001b[0m\n\u001b[0;32m----> 1\u001b[0;31m \u001b[0mnew_tuple\u001b[0m\u001b[0;34m.\u001b[0m\u001b[0mappend\u001b[0m\u001b[0;34m(\u001b[0m\u001b[0;36m11\u001b[0m\u001b[0;34m)\u001b[0m\u001b[0;34m\u001b[0m\u001b[0;34m\u001b[0m\u001b[0m\n\u001b[0m",
            "\u001b[0;31mAttributeError\u001b[0m: 'tuple' object has no attribute 'append'"
          ]
        }
      ]
    },
    {
      "cell_type": "code",
      "source": [
        "del new_tuple[1]"
      ],
      "metadata": {
        "colab": {
          "base_uri": "https://localhost:8080/",
          "height": 141
        },
        "id": "3MPBHuH8W2ld",
        "outputId": "55235a82-3e90-495d-9365-0a96a54f98c3"
      },
      "execution_count": 16,
      "outputs": [
        {
          "output_type": "error",
          "ename": "TypeError",
          "evalue": "'tuple' object doesn't support item deletion",
          "traceback": [
            "\u001b[0;31m---------------------------------------------------------------------------\u001b[0m",
            "\u001b[0;31mTypeError\u001b[0m                                 Traceback (most recent call last)",
            "\u001b[0;32m<ipython-input-16-56f5f2fee5fc>\u001b[0m in \u001b[0;36m<cell line: 1>\u001b[0;34m()\u001b[0m\n\u001b[0;32m----> 1\u001b[0;31m \u001b[0;32mdel\u001b[0m \u001b[0mnew_tuple\u001b[0m\u001b[0;34m[\u001b[0m\u001b[0;36m1\u001b[0m\u001b[0;34m]\u001b[0m\u001b[0;34m\u001b[0m\u001b[0;34m\u001b[0m\u001b[0m\n\u001b[0m",
            "\u001b[0;31mTypeError\u001b[0m: 'tuple' object doesn't support item deletion"
          ]
        }
      ]
    },
    {
      "cell_type": "markdown",
      "source": [
        "## sort: Sorted()\n",
        "You can sort the objects in tuple using the sorted() function, but doing so creates a new list containing the result rather than sorting the original tuple itself like the list.sort() function does with lists:"
      ],
      "metadata": {
        "id": "PT2GDzwVXHQS"
      }
    },
    {
      "cell_type": "code",
      "source": [
        "sorted(new_tuple)"
      ],
      "metadata": {
        "colab": {
          "base_uri": "https://localhost:8080/"
        },
        "id": "_7Jr3hpNXMvs",
        "outputId": "edd3144e-f0e4-4abc-d081-f14f46aa85a9"
      },
      "execution_count": 17,
      "outputs": [
        {
          "output_type": "execute_result",
          "data": {
            "text/plain": [
              "[1, 2, 3, 4]"
            ]
          },
          "metadata": {},
          "execution_count": 17
        }
      ]
    },
    {
      "cell_type": "markdown",
      "source": [
        "## shallow copy"
      ],
      "metadata": {
        "id": "HbUif24qXwZp"
      }
    },
    {
      "cell_type": "code",
      "source": [
        "list1 = [1,2,3]\n",
        "\n",
        "tuple1 = (\"Tuples are Immutable\", list1)\n",
        "\n",
        "tuple2 = tuple1[:]                       # Make a shallow copy\n",
        "\n",
        "list1.append(\"But lists are mutable\")\n",
        "\n",
        "print( tuple2 )"
      ],
      "metadata": {
        "colab": {
          "base_uri": "https://localhost:8080/"
        },
        "id": "4T75-Ps4Xmao",
        "outputId": "4a8d9ddd-d540-4ff9-aaf8-78f09f29f982"
      },
      "execution_count": 18,
      "outputs": [
        {
          "output_type": "stream",
          "name": "stdout",
          "text": [
            "('Tuples are Immutable', [1, 2, 3, 'But lists are mutable'])\n"
          ]
        }
      ]
    },
    {
      "cell_type": "markdown",
      "source": [
        "## Deepcopy"
      ],
      "metadata": {
        "id": "4zskRabcXsdg"
      }
    },
    {
      "cell_type": "code",
      "source": [],
      "metadata": {
        "id": "TzxhZeRTXryF"
      },
      "execution_count": null,
      "outputs": []
    },
    {
      "cell_type": "code",
      "source": [
        "import copy\n",
        "\n",
        "list1 = [1,2,3]\n",
        "\n",
        "tuple1 = (\"Tuples are Immutable\", list1)\n",
        "\n",
        "tuple2 = copy.deepcopy(tuple1)           # Make a deep copy\n",
        "\n",
        "list1.append(\"But lists are mutable\")\n",
        "\n",
        "print( tuple2 )"
      ],
      "metadata": {
        "colab": {
          "base_uri": "https://localhost:8080/"
        },
        "id": "x3QrPGZFXn44",
        "outputId": "2d36ceb4-4843-4b6b-b3ae-f2ec331b3c50"
      },
      "execution_count": 19,
      "outputs": [
        {
          "output_type": "stream",
          "name": "stdout",
          "text": [
            "('Tuples are Immutable', [1, 2, 3])\n"
          ]
        }
      ]
    },
    {
      "cell_type": "markdown",
      "source": [
        "# String"
      ],
      "metadata": {
        "id": "iLt3U7BOX2qC"
      }
    },
    {
      "cell_type": "code",
      "source": [
        "my_string = \"Hello world\"\n",
        "type(my_string)"
      ],
      "metadata": {
        "colab": {
          "base_uri": "https://localhost:8080/"
        },
        "id": "5DRfAIAxXzJQ",
        "outputId": "ccbb8eb9-2525-4ad5-b913-8c8c41440061"
      },
      "execution_count": 20,
      "outputs": [
        {
          "output_type": "execute_result",
          "data": {
            "text/plain": [
              "str"
            ]
          },
          "metadata": {},
          "execution_count": 20
        }
      ]
    },
    {
      "cell_type": "code",
      "source": [
        "# sliceing\n",
        "print(my_string[1:])\n",
        "\n",
        "#indexing\n",
        "print(my_string[1])\n",
        "\n",
        "# reverse string\n",
        "print(my_string[::-1])\n",
        "\n",
        "# length of string\n",
        "print(len(my_string))\n",
        "\n",
        "# count of o\n",
        "print(my_string.count('o'))\n",
        "\n",
        "# lower/ upper\n",
        "print(my_string.lower())\n",
        "\n",
        "# title\n",
        "print(my_string.title())"
      ],
      "metadata": {
        "colab": {
          "base_uri": "https://localhost:8080/"
        },
        "id": "aN_N-_80X9y5",
        "outputId": "aab0d065-a0cb-4cd9-8b09-7ef3547f62d4"
      },
      "execution_count": 27,
      "outputs": [
        {
          "output_type": "stream",
          "name": "stdout",
          "text": [
            "ello world\n",
            "e\n",
            "dlrow olleH\n",
            "11\n",
            "2\n",
            "hello world\n",
            "Hello World\n"
          ]
        }
      ]
    },
    {
      "cell_type": "markdown",
      "source": [
        "## Find\n",
        "\n",
        "the index of the first appearing substring within a string using str.find(). If the substring does not appear, find() returns -1:"
      ],
      "metadata": {
        "id": "T3hf-khxY087"
      }
    },
    {
      "cell_type": "code",
      "source": [
        "# if found return first occurance\n",
        "print(my_string.find('o'))\n",
        "\n",
        "\n",
        "# if not found return -1\n",
        "print(my_string.find('z'))\n",
        "\n",
        "print(my_string.find('O'))\n"
      ],
      "metadata": {
        "colab": {
          "base_uri": "https://localhost:8080/"
        },
        "id": "zSNKKPWLY3C_",
        "outputId": "7d3c534d-290a-45e9-c43e-192f8a13115d"
      },
      "execution_count": 30,
      "outputs": [
        {
          "output_type": "stream",
          "name": "stdout",
          "text": [
            "4\n",
            "-1\n",
            "-1\n"
          ]
        }
      ]
    },
    {
      "cell_type": "markdown",
      "source": [
        "Notice that since strings are immutable, we never actually changed the original value of my_string with any of the code above, but instead generated new strings that were printed to the console. This means \"W\" does not exist in my_string even though our call to str.title() produced the output 'Hello World'. The original lowercase \"w\" still exists at index position 6:"
      ],
      "metadata": {
        "id": "4wj-0z5nZOSf"
      }
    },
    {
      "cell_type": "code",
      "source": [
        "# Replace\n",
        "my_string.replace(\"world\",    # Substring to replace\n",
        "                  \"friend\")   # New substring\n",
        "print(my_string)\n",
        "# my_string.replace(\"world\" ,\"Friend\")\n",
        "# my_string\n",
        "\n",
        "# my_string.replace('Hello', 'Dear')\n",
        "# print(my_string)"
      ],
      "metadata": {
        "colab": {
          "base_uri": "https://localhost:8080/"
        },
        "id": "1xzZwF-ch2hu",
        "outputId": "a3a8d677-3371-43b1-a335-241813b23253"
      },
      "execution_count": 39,
      "outputs": [
        {
          "output_type": "stream",
          "name": "stdout",
          "text": [
            "Hello world\n"
          ]
        }
      ]
    },
    {
      "cell_type": "code",
      "source": [
        "my_string1 = \"hi hello\"\n",
        "print(my_string1)\n",
        "\n",
        "my_string1.replace('hi', 'guys')\n",
        "print(my_string1)\n"
      ],
      "metadata": {
        "colab": {
          "base_uri": "https://localhost:8080/"
        },
        "id": "K5U6l3rgknix",
        "outputId": "a9f5b242-24f3-4820-80ce-2caea95cebe1"
      },
      "execution_count": 42,
      "outputs": [
        {
          "output_type": "stream",
          "name": "stdout",
          "text": [
            "hi hello\n",
            "hi hello\n"
          ]
        }
      ]
    },
    {
      "cell_type": "code",
      "source": [
        "my_string.split()     # str.split() splits on spaces by default"
      ],
      "metadata": {
        "colab": {
          "base_uri": "https://localhost:8080/"
        },
        "id": "BXeOITqLlGOO",
        "outputId": "bdf6fff3-97c2-40b3-d0f2-dfeaefbfe129"
      },
      "execution_count": 43,
      "outputs": [
        {
          "output_type": "execute_result",
          "data": {
            "text/plain": [
              "['Hello', 'world']"
            ]
          },
          "metadata": {},
          "execution_count": 43
        }
      ]
    },
    {
      "cell_type": "code",
      "source": [
        "my_string.split(\"l\")  # Supply a substring to split on other values"
      ],
      "metadata": {
        "colab": {
          "base_uri": "https://localhost:8080/"
        },
        "id": "vlqfpnrhlLBq",
        "outputId": "56ba9b51-566d-49f0-9f63-43eeb8827cee"
      },
      "execution_count": 44,
      "outputs": [
        {
          "output_type": "execute_result",
          "data": {
            "text/plain": [
              "['He', '', 'o wor', 'd']"
            ]
          },
          "metadata": {},
          "execution_count": 44
        }
      ]
    },
    {
      "cell_type": "code",
      "source": [
        "multiline_string = \"\"\"I am\n",
        "a multiline\n",
        "string!\n",
        "\"\"\"\n",
        "\n",
        "multiline_string.splitlines()"
      ],
      "metadata": {
        "colab": {
          "base_uri": "https://localhost:8080/"
        },
        "id": "MxY0Pj1TlShk",
        "outputId": "bef23eaf-e409-4522-9023-0c0e4ee6de8b"
      },
      "execution_count": 45,
      "outputs": [
        {
          "output_type": "execute_result",
          "data": {
            "text/plain": [
              "['I am', 'a multiline ', 'string!']"
            ]
          },
          "metadata": {},
          "execution_count": 45
        }
      ]
    },
    {
      "cell_type": "code",
      "source": [
        "# str.strip() removes whitespace by default\n",
        "\n",
        "\"    strip white space!   \".strip()"
      ],
      "metadata": {
        "colab": {
          "base_uri": "https://localhost:8080/",
          "height": 35
        },
        "id": "gHV_6ChflY0g",
        "outputId": "1fe7671f-4537-4715-b05a-de9f6df18dd9"
      },
      "execution_count": 46,
      "outputs": [
        {
          "output_type": "execute_result",
          "data": {
            "text/plain": [
              "'strip white space!'"
            ],
            "application/vnd.google.colaboratory.intrinsic+json": {
              "type": "string"
            }
          },
          "metadata": {},
          "execution_count": 46
        }
      ]
    },
    {
      "cell_type": "code",
      "source": [
        "\"xXxxBuyNOWxxXx\".strip(\"xX\")"
      ],
      "metadata": {
        "colab": {
          "base_uri": "https://localhost:8080/",
          "height": 35
        },
        "id": "oY1ukhG3lijl",
        "outputId": "fce2ec29-0958-483c-9a16-ed991b5555c1"
      },
      "execution_count": 47,
      "outputs": [
        {
          "output_type": "execute_result",
          "data": {
            "text/plain": [
              "'BuyNOW'"
            ],
            "application/vnd.google.colaboratory.intrinsic+json": {
              "type": "string"
            }
          },
          "metadata": {},
          "execution_count": 47
        }
      ]
    },
    {
      "cell_type": "markdown",
      "source": [
        "## join():\n",
        "Convert the a list of strings into a single string separated by a given delimiter with str.join():"
      ],
      "metadata": {
        "id": "36HH9RPAltO-"
      }
    },
    {
      "cell_type": "code",
      "source": [
        "\" \".join([\"Hello\", \"World!\", \"Join\", \"Me!\"])"
      ],
      "metadata": {
        "colab": {
          "base_uri": "https://localhost:8080/",
          "height": 35
        },
        "id": "Tbl4rGN-lyL2",
        "outputId": "e54bb12b-2f0f-4242-e42a-4b36ce88126a"
      },
      "execution_count": 48,
      "outputs": [
        {
          "output_type": "execute_result",
          "data": {
            "text/plain": [
              "'Hello World! Join Me!'"
            ],
            "application/vnd.google.colaboratory.intrinsic+json": {
              "type": "string"
            }
          },
          "metadata": {},
          "execution_count": 48
        }
      ]
    },
    {
      "cell_type": "code",
      "source": [
        "name = \"Joe\"\n",
        "age = 10\n",
        "city = \"Paris\"\n",
        "\n",
        "\"My name is \" + name + \" I am \" + str(age) + \" and I live in \" + \"Paris\""
      ],
      "metadata": {
        "colab": {
          "base_uri": "https://localhost:8080/",
          "height": 35
        },
        "id": "RXmlKeqXl29u",
        "outputId": "67ecd1b7-911d-4367-8223-6d3a0031a78d"
      },
      "execution_count": 49,
      "outputs": [
        {
          "output_type": "execute_result",
          "data": {
            "text/plain": [
              "'My name is Joe I am 10 and I live in Paris'"
            ],
            "application/vnd.google.colaboratory.intrinsic+json": {
              "type": "string"
            }
          },
          "metadata": {},
          "execution_count": 49
        }
      ]
    },
    {
      "cell_type": "markdown",
      "source": [
        "# str.format()\n",
        "For complex string operations of this sort is preferable to use the str.format() function or formatted strings. str.format() takes in a template string with curly braces as placeholders for values you provide to the function as the arguments. The arguments are then filled into the appropriate placeholders in the string:"
      ],
      "metadata": {
        "id": "lBgZ8D4umH4w"
      }
    },
    {
      "cell_type": "code",
      "source": [
        "template_string = \"My name is {} I am {} and I live in {}\"\n",
        "template_string.format(name, age, city)"
      ],
      "metadata": {
        "colab": {
          "base_uri": "https://localhost:8080/",
          "height": 35
        },
        "id": "l5OcbTUzmN_i",
        "outputId": "250fcdde-2418-4f2b-d121-4388d3ef2313"
      },
      "execution_count": 50,
      "outputs": [
        {
          "output_type": "execute_result",
          "data": {
            "text/plain": [
              "'My name is Joe I am 10 and I live in Paris'"
            ],
            "application/vnd.google.colaboratory.intrinsic+json": {
              "type": "string"
            }
          },
          "metadata": {},
          "execution_count": 50
        }
      ]
    },
    {
      "cell_type": "code",
      "source": [
        "name = \"Will\"\n",
        "age = 32\n",
        "city = \"Paris\"\n",
        "template_string.format(name, age, city)"
      ],
      "metadata": {
        "colab": {
          "base_uri": "https://localhost:8080/",
          "height": 35
        },
        "id": "1Uru3pytmbWe",
        "outputId": "c88e31c6-871f-4227-e4e4-b63df6e4caf0"
      },
      "execution_count": 54,
      "outputs": [
        {
          "output_type": "execute_result",
          "data": {
            "text/plain": [
              "'My name is Will I am 32 and I live in Paris'"
            ],
            "application/vnd.google.colaboratory.intrinsic+json": {
              "type": "string"
            }
          },
          "metadata": {},
          "execution_count": 54
        }
      ]
    },
    {
      "cell_type": "markdown",
      "source": [
        "# Formatted strings or f-strings\n",
        "Formatted strings or f-strings for short are an alternative, relatively new (as of Python version 3.6) method for string formatting. F-strings are strings prefixed with \"f\" (or \"F\") that allow you to insert existing variables into string by name by placing them within curly braces:"
      ],
      "metadata": {
        "id": "VAt1eaoDmrfU"
      }
    },
    {
      "cell_type": "code",
      "source": [
        "formated_string = f\"My Name is {name} I am {age} And i Live in {city}\"\n",
        "formated_string"
      ],
      "metadata": {
        "colab": {
          "base_uri": "https://localhost:8080/",
          "height": 35
        },
        "id": "Jk0eiSS1my74",
        "outputId": "88d839fe-b4b3-41a3-c9cd-bc750caa04d7"
      },
      "execution_count": 56,
      "outputs": [
        {
          "output_type": "execute_result",
          "data": {
            "text/plain": [
              "'My Name is Will I am 32 And i Live in Paris'"
            ],
            "application/vnd.google.colaboratory.intrinsic+json": {
              "type": "string"
            }
          },
          "metadata": {},
          "execution_count": 56
        }
      ]
    }
  ]
}