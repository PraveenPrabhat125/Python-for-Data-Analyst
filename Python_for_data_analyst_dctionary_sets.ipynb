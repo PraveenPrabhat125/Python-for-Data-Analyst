{
  "nbformat": 4,
  "nbformat_minor": 0,
  "metadata": {
    "colab": {
      "provenance": [],
      "authorship_tag": "ABX9TyMGGCSGcjuJJlseCsaRQwYx",
      "include_colab_link": true
    },
    "kernelspec": {
      "name": "python3",
      "display_name": "Python 3"
    },
    "language_info": {
      "name": "python"
    }
  },
  "cells": [
    {
      "cell_type": "markdown",
      "metadata": {
        "id": "view-in-github",
        "colab_type": "text"
      },
      "source": [
        "<a href=\"https://colab.research.google.com/github/PraveenPrabhat125/Python-for-Data-Analyst/blob/main/Python_for_data_analyst_dctionary_sets.ipynb\" target=\"_parent\"><img src=\"https://colab.research.google.com/assets/colab-badge.svg\" alt=\"Open In Colab\"/></a>"
      ]
    },
    {
      "cell_type": "markdown",
      "source": [
        "## Dictionaries and Sets"
      ],
      "metadata": {
        "id": "1hvnt07Un7tu"
      }
    },
    {
      "cell_type": "markdown",
      "source": [
        "Sequence data types like lists, tuples and strings are ordered. Ordering can be useful in some cases, such as if your data is sorted or has some other natural sense of ordering, but it comes at a price. When you search through sequences like lists, your computer has to go through each element one at a time to find an object you're looking for.\n",
        "\n",
        "Consider the following code:"
      ],
      "metadata": {
        "id": "iKFH-V1gn_G4"
      }
    },
    {
      "cell_type": "code",
      "execution_count": null,
      "metadata": {
        "colab": {
          "base_uri": "https://localhost:8080/"
        },
        "id": "vNHeKJbZnfuF",
        "outputId": "dcf14cda-038d-4d78-aa50-28108f2960dc"
      },
      "outputs": [
        {
          "output_type": "execute_result",
          "data": {
            "text/plain": [
              "False"
            ]
          },
          "metadata": {},
          "execution_count": 1
        }
      ],
      "source": [
        "my_list = [1,2,3,4,5,6,7,8,9,10]\n",
        "\n",
        "0 in my_list"
      ]
    },
    {
      "cell_type": "markdown",
      "source": [
        "When running the code above, Python has to search through the entire list, one item at a time before it returns that 0 is not in the list. This sequential searching isn't much of a concern with small lists like this one, but if you're working with data that contains thousands or millions of values, it can add up quickly.\n",
        "\n",
        "Dictionaries and sets are unordered Python data structures that solve this issue using a technique called hashing. We won't go into the details of their implementation, but dictionaries and sets let you check whether they contain objects without having to search through each element one at a time, at the cost of having no order and using a bit more system memory."
      ],
      "metadata": {
        "id": "3BallkxuoDSj"
      }
    },
    {
      "cell_type": "markdown",
      "source": [
        "## Dictionaries\n",
        "A dictionary or dict is an object that maps a set of named indexes called keys to a set of corresponding values. Dictionaries are mutable, so you can add and remove keys and their associated values. A dictionary's keys must be immutable objects, such as ints, strings or tuples, but the values can be anything.\n",
        "\n",
        "Create a dictionary with a comma-separated list of key: value pairs within curly braces:"
      ],
      "metadata": {
        "id": "uRpSar7coFep"
      }
    },
    {
      "cell_type": "code",
      "source": [
        "# my_list = [Nancy, Lucas, Dustin, Will.  Mike]\n",
        "my_dict = {\n",
        "    'name': 'Mike',\n",
        "    'age': 12,\n",
        "    'City': 'Paris'\n",
        "}\n",
        "print(my_dict)\n",
        "type(my_dict)"
      ],
      "metadata": {
        "colab": {
          "base_uri": "https://localhost:8080/"
        },
        "id": "qpo5ncoHoECv",
        "outputId": "ccc758b4-5abe-4ba7-d127-e3f739619d44"
      },
      "execution_count": null,
      "outputs": [
        {
          "output_type": "stream",
          "name": "stdout",
          "text": [
            "{'name': 'Mike', 'age': 12, 'City': 'Paris'}\n"
          ]
        },
        {
          "output_type": "execute_result",
          "data": {
            "text/plain": [
              "dict"
            ]
          },
          "metadata": {},
          "execution_count": 3
        }
      ]
    },
    {
      "cell_type": "code",
      "source": [
        "my_dict['name']"
      ],
      "metadata": {
        "colab": {
          "base_uri": "https://localhost:8080/",
          "height": 35
        },
        "id": "-9kC1nnXo63n",
        "outputId": "2ace1239-6f2f-4c31-9d0a-b0a4220cd1c5"
      },
      "execution_count": null,
      "outputs": [
        {
          "output_type": "execute_result",
          "data": {
            "text/plain": [
              "'Mike'"
            ],
            "application/vnd.google.colaboratory.intrinsic+json": {
              "type": "string"
            }
          },
          "metadata": {},
          "execution_count": 4
        }
      ]
    },
    {
      "cell_type": "markdown",
      "source": [
        "Add new items to an existing dictionary with the following syntax:"
      ],
      "metadata": {
        "id": "Lv2GXOj0pAWw"
      }
    },
    {
      "cell_type": "code",
      "source": [
        "my_dict['School'] = \"Hawkins School\"\n",
        "my_dict"
      ],
      "metadata": {
        "colab": {
          "base_uri": "https://localhost:8080/"
        },
        "id": "9XVaK3WVpBAa",
        "outputId": "98a67115-2e23-44b4-8762-06284992fadc"
      },
      "execution_count": null,
      "outputs": [
        {
          "output_type": "execute_result",
          "data": {
            "text/plain": [
              "{'name': 'Mike', 'age': 12, 'City': 'Paris', 'School': 'Hawkins School'}"
            ]
          },
          "metadata": {},
          "execution_count": 7
        }
      ]
    },
    {
      "cell_type": "code",
      "source": [
        "my_dict['School2'] = \"Hawkins School2\"\n",
        "my_dict"
      ],
      "metadata": {
        "colab": {
          "base_uri": "https://localhost:8080/"
        },
        "id": "sD21FyvupcIq",
        "outputId": "0e80e79f-5709-4d5f-95a9-6ff15200b3bc"
      },
      "execution_count": null,
      "outputs": [
        {
          "output_type": "execute_result",
          "data": {
            "text/plain": [
              "{'name': 'Mike',\n",
              " 'age': 12,\n",
              " 'City': 'Paris',\n",
              " 'School': 'Hawkins School',\n",
              " 'School2': 'Hawkins School2'}"
            ]
          },
          "metadata": {},
          "execution_count": 8
        }
      ]
    },
    {
      "cell_type": "code",
      "source": [
        "del my_dict['School2']\n",
        "my_dict"
      ],
      "metadata": {
        "colab": {
          "base_uri": "https://localhost:8080/"
        },
        "id": "54P2sCJApfIm",
        "outputId": "fbce1bac-1683-49c7-cc4f-45bb37e05492"
      },
      "execution_count": null,
      "outputs": [
        {
          "output_type": "execute_result",
          "data": {
            "text/plain": [
              "{'name': 'Mike', 'age': 12, 'City': 'Paris', 'School': 'Hawkins School'}"
            ]
          },
          "metadata": {},
          "execution_count": 9
        }
      ]
    },
    {
      "cell_type": "code",
      "source": [
        "# LEngth\n",
        "print(len(my_dict))"
      ],
      "metadata": {
        "colab": {
          "base_uri": "https://localhost:8080/"
        },
        "id": "gIZSxNgwpjrN",
        "outputId": "772abf60-9665-49e5-fe30-0b2973f4baad"
      },
      "execution_count": null,
      "outputs": [
        {
          "output_type": "stream",
          "name": "stdout",
          "text": [
            "4\n"
          ]
        }
      ]
    },
    {
      "cell_type": "code",
      "source": [
        "'Mike' in my_dict"
      ],
      "metadata": {
        "colab": {
          "base_uri": "https://localhost:8080/"
        },
        "id": "K28j1aibppTW",
        "outputId": "2c14b890-6a51-413c-ee3f-c2385a2cd5a8"
      },
      "execution_count": null,
      "outputs": [
        {
          "output_type": "execute_result",
          "data": {
            "text/plain": [
              "False"
            ]
          },
          "metadata": {},
          "execution_count": 12
        }
      ]
    },
    {
      "cell_type": "code",
      "source": [
        "'name' in my_dict"
      ],
      "metadata": {
        "colab": {
          "base_uri": "https://localhost:8080/"
        },
        "id": "PQnW6vk7pyUh",
        "outputId": "8601a8d5-9ccd-4d1f-c55a-b45d3cccdabe"
      },
      "execution_count": null,
      "outputs": [
        {
          "output_type": "execute_result",
          "data": {
            "text/plain": [
              "True"
            ]
          },
          "metadata": {},
          "execution_count": 13
        }
      ]
    },
    {
      "cell_type": "code",
      "source": [
        "my_dict['name'].keys() in my_dict"
      ],
      "metadata": {
        "colab": {
          "base_uri": "https://localhost:8080/",
          "height": 141
        },
        "id": "slJuVBE9p0aU",
        "outputId": "60397118-3482-4031-8bd9-20d2a76d5d2b"
      },
      "execution_count": null,
      "outputs": [
        {
          "output_type": "error",
          "ename": "AttributeError",
          "evalue": "'str' object has no attribute 'keys'",
          "traceback": [
            "\u001b[0;31m---------------------------------------------------------------------------\u001b[0m",
            "\u001b[0;31mAttributeError\u001b[0m                            Traceback (most recent call last)",
            "\u001b[0;32m<ipython-input-19-846b80889af5>\u001b[0m in \u001b[0;36m<cell line: 1>\u001b[0;34m()\u001b[0m\n\u001b[0;32m----> 1\u001b[0;31m \u001b[0mmy_dict\u001b[0m\u001b[0;34m[\u001b[0m\u001b[0;34m'name'\u001b[0m\u001b[0;34m]\u001b[0m\u001b[0;34m.\u001b[0m\u001b[0mkeys\u001b[0m\u001b[0;34m(\u001b[0m\u001b[0;34m)\u001b[0m \u001b[0;32min\u001b[0m \u001b[0mmy_dict\u001b[0m\u001b[0;34m\u001b[0m\u001b[0;34m\u001b[0m\u001b[0m\n\u001b[0m",
            "\u001b[0;31mAttributeError\u001b[0m: 'str' object has no attribute 'keys'"
          ]
        }
      ]
    },
    {
      "cell_type": "code",
      "source": [
        "my_dict['name'].values()"
      ],
      "metadata": {
        "colab": {
          "base_uri": "https://localhost:8080/",
          "height": 141
        },
        "id": "yNAPHX5pqFCx",
        "outputId": "97c2b750-a2f0-400d-e68e-6c758c3ac9d3"
      },
      "execution_count": null,
      "outputs": [
        {
          "output_type": "error",
          "ename": "AttributeError",
          "evalue": "'str' object has no attribute 'values'",
          "traceback": [
            "\u001b[0;31m---------------------------------------------------------------------------\u001b[0m",
            "\u001b[0;31mAttributeError\u001b[0m                            Traceback (most recent call last)",
            "\u001b[0;32m<ipython-input-21-2ebf814697f0>\u001b[0m in \u001b[0;36m<cell line: 1>\u001b[0;34m()\u001b[0m\n\u001b[0;32m----> 1\u001b[0;31m \u001b[0mmy_dict\u001b[0m\u001b[0;34m[\u001b[0m\u001b[0;34m'name'\u001b[0m\u001b[0;34m]\u001b[0m\u001b[0;34m.\u001b[0m\u001b[0mvalues\u001b[0m\u001b[0;34m(\u001b[0m\u001b[0;34m)\u001b[0m\u001b[0;34m\u001b[0m\u001b[0;34m\u001b[0m\u001b[0m\n\u001b[0m",
            "\u001b[0;31mAttributeError\u001b[0m: 'str' object has no attribute 'values'"
          ]
        }
      ]
    },
    {
      "cell_type": "code",
      "source": [
        "my_dict['name']"
      ],
      "metadata": {
        "colab": {
          "base_uri": "https://localhost:8080/",
          "height": 141
        },
        "id": "Kelt9_SZqYI3",
        "outputId": "d50cb321-f518-40ea-858d-dee5e1409add"
      },
      "execution_count": null,
      "outputs": [
        {
          "output_type": "error",
          "ename": "AttributeError",
          "evalue": "'str' object has no attribute 'values'",
          "traceback": [
            "\u001b[0;31m---------------------------------------------------------------------------\u001b[0m",
            "\u001b[0;31mAttributeError\u001b[0m                            Traceback (most recent call last)",
            "\u001b[0;32m<ipython-input-23-2ebf814697f0>\u001b[0m in \u001b[0;36m<cell line: 1>\u001b[0;34m()\u001b[0m\n\u001b[0;32m----> 1\u001b[0;31m \u001b[0mmy_dict\u001b[0m\u001b[0;34m[\u001b[0m\u001b[0;34m'name'\u001b[0m\u001b[0;34m]\u001b[0m\u001b[0;34m.\u001b[0m\u001b[0mvalues\u001b[0m\u001b[0;34m(\u001b[0m\u001b[0;34m)\u001b[0m\u001b[0;34m\u001b[0m\u001b[0;34m\u001b[0m\u001b[0m\n\u001b[0m",
            "\u001b[0;31mAttributeError\u001b[0m: 'str' object has no attribute 'values'"
          ]
        }
      ]
    },
    {
      "cell_type": "markdown",
      "source": [
        "### Keys : values"
      ],
      "metadata": {
        "id": "OKQKSlc9qgNF"
      }
    },
    {
      "cell_type": "code",
      "source": [
        "values = my_dict.values()\n",
        "keys = my_dict.keys()\n",
        "\n",
        "print(values)\n",
        "print(my_dict.values())\n",
        "\n",
        "\n",
        "print(keys)\n",
        "print(my_dict.keys())\n",
        "\n",
        "print(my_dict.items())"
      ],
      "metadata": {
        "colab": {
          "base_uri": "https://localhost:8080/"
        },
        "id": "4UBXf_4Vqf59",
        "outputId": "35211e87-87f2-47f1-c4a4-b69bd173ffd9"
      },
      "execution_count": null,
      "outputs": [
        {
          "output_type": "stream",
          "name": "stdout",
          "text": [
            "dict_values(['Mike', 12, 'Paris', 'Hawkins School'])\n",
            "dict_values(['Mike', 12, 'Paris', 'Hawkins School'])\n",
            "dict_keys(['name', 'age', 'City', 'School'])\n",
            "dict_keys(['name', 'age', 'City', 'School'])\n",
            "dict_items([('name', 'Mike'), ('age', 12), ('City', 'Paris'), ('School', 'Hawkins School')])\n"
          ]
        }
      ]
    },
    {
      "cell_type": "code",
      "source": [
        "my_table_dict = {\"name\": [\"Joe\", \"Bob\", \"Harry\"],\n",
        "                 \"age\": [10,15,20] ,\n",
        "                 \"city\": [\"Paris\", \"New York\", \"Tokyo\"]}\n",
        "my_table_dict"
      ],
      "metadata": {
        "colab": {
          "base_uri": "https://localhost:8080/"
        },
        "id": "1k9SgX28rLbI",
        "outputId": "fd1725b1-36b7-427f-965a-e7e1bf8e48e7"
      },
      "execution_count": null,
      "outputs": [
        {
          "output_type": "execute_result",
          "data": {
            "text/plain": [
              "{'name': ['Joe', 'Bob', 'Harry'],\n",
              " 'age': [10, 15, 20],\n",
              " 'city': ['Paris', 'New York', 'Tokyo']}"
            ]
          },
          "metadata": {},
          "execution_count": 31
        }
      ]
    },
    {
      "cell_type": "code",
      "source": [
        "print(my_table_dict[\"name\"][0])\n",
        "\n",
        "print(my_table_dict[\"age\"][0])\n",
        "\n",
        "print(my_table_dict[\"city\"][0])\n",
        "\n",
        "print(\"Name: \" + my_table_dict[\"name\"][0] + \", Age: \" + str(my_table_dict[\"age\"][0] ))"
      ],
      "metadata": {
        "colab": {
          "base_uri": "https://localhost:8080/"
        },
        "id": "2GfIorhIrSj-",
        "outputId": "354dffab-5f92-47d2-dae9-8d127cc08566"
      },
      "execution_count": null,
      "outputs": [
        {
          "output_type": "stream",
          "name": "stdout",
          "text": [
            "Joe\n",
            "10\n",
            "Paris\n",
            "Name: Joe, Age: 10\n"
          ]
        }
      ]
    },
    {
      "cell_type": "markdown",
      "source": [
        "# Sets\n",
        "Sets are unordered, mutable collections of immutable objects that cannot contain duplicates. Sets are useful for storing and performing operations on data where each value is unique. Create a set with a comma separated sequence of values within curly braces:"
      ],
      "metadata": {
        "id": "j4OkmqDisiaT"
      }
    },
    {
      "cell_type": "code",
      "source": [
        "my_set = {1,2,3,4,5,6,7}\n",
        "\n",
        "type(my_set)"
      ],
      "metadata": {
        "colab": {
          "base_uri": "https://localhost:8080/"
        },
        "id": "dZY4cej2sp26",
        "outputId": "94de6ddf-7c39-4c4a-e4e8-930cf5f17e51"
      },
      "execution_count": null,
      "outputs": [
        {
          "output_type": "execute_result",
          "data": {
            "text/plain": [
              "set"
            ]
          },
          "metadata": {},
          "execution_count": 41
        }
      ]
    },
    {
      "cell_type": "code",
      "source": [
        "my_set.add(8)\n",
        "\n",
        "my_set"
      ],
      "metadata": {
        "colab": {
          "base_uri": "https://localhost:8080/"
        },
        "id": "RmSN4Pz8st-b",
        "outputId": "bd10a642-38c3-434b-c620-7da93c99e7fa"
      },
      "execution_count": null,
      "outputs": [
        {
          "output_type": "execute_result",
          "data": {
            "text/plain": [
              "{1, 2, 3, 4, 5, 6, 7, 8}"
            ]
          },
          "metadata": {},
          "execution_count": 42
        }
      ]
    },
    {
      "cell_type": "code",
      "source": [
        "my_set.remove(7)\n",
        "\n",
        "my_set"
      ],
      "metadata": {
        "colab": {
          "base_uri": "https://localhost:8080/"
        },
        "id": "qb36Dx4iswzN",
        "outputId": "e4d1e9b9-bae2-4011-861f-fe8b8f89a18b"
      },
      "execution_count": null,
      "outputs": [
        {
          "output_type": "execute_result",
          "data": {
            "text/plain": [
              "{1, 2, 3, 4, 5, 6, 8}"
            ]
          },
          "metadata": {},
          "execution_count": 43
        }
      ]
    },
    {
      "cell_type": "markdown",
      "source": [
        "Sets do not support indexing, but they do support basic sequence functions like len(), min(), max() and sum(). You can also check membership and non-membership as usual with in:"
      ],
      "metadata": {
        "id": "3xYHPwtDszmW"
      }
    },
    {
      "cell_type": "code",
      "source": [
        "7 in my_set"
      ],
      "metadata": {
        "colab": {
          "base_uri": "https://localhost:8080/"
        },
        "id": "-XjqaOCqs1nM",
        "outputId": "314f23c0-e879-4c9c-f6b4-2c3888a03aed"
      },
      "execution_count": null,
      "outputs": [
        {
          "output_type": "execute_result",
          "data": {
            "text/plain": [
              "False"
            ]
          },
          "metadata": {},
          "execution_count": 44
        }
      ]
    },
    {
      "cell_type": "markdown",
      "source": [
        "One of the main purposes of sets is to perform set operations that compare or combine different sets. Python sets support many common mathematical set operations like union, intersection, difference and checking whether one set is a subset of another:"
      ],
      "metadata": {
        "id": "_maAo42Hs9eq"
      }
    },
    {
      "cell_type": "code",
      "source": [
        "set1 = {1,3,5,6}\n",
        "set2 = {1,2,3,4}\n",
        "\n",
        "set1.union(set2)          # Get the union of two sets"
      ],
      "metadata": {
        "colab": {
          "base_uri": "https://localhost:8080/"
        },
        "id": "1T11Y8_Ms-7O",
        "outputId": "5925d7f7-763f-4ff1-962f-cb55aae5ccb6"
      },
      "execution_count": null,
      "outputs": [
        {
          "output_type": "execute_result",
          "data": {
            "text/plain": [
              "{1, 2, 3, 4, 5, 6}"
            ]
          },
          "metadata": {},
          "execution_count": 45
        }
      ]
    },
    {
      "cell_type": "code",
      "source": [
        "set1.intersection(set2)   # Get the intersection of two sets"
      ],
      "metadata": {
        "colab": {
          "base_uri": "https://localhost:8080/"
        },
        "id": "GN8UPHhNtGAb",
        "outputId": "0cadca50-ecb8-4727-e824-3cca1ae99a9c"
      },
      "execution_count": null,
      "outputs": [
        {
          "output_type": "execute_result",
          "data": {
            "text/plain": [
              "{1, 3}"
            ]
          },
          "metadata": {},
          "execution_count": 47
        }
      ]
    },
    {
      "cell_type": "code",
      "source": [
        "set1.difference(set2)     # Get the difference between two sets"
      ],
      "metadata": {
        "colab": {
          "base_uri": "https://localhost:8080/"
        },
        "id": "-6RjZuC9tKzU",
        "outputId": "b0d7692e-c0be-4699-fe85-9fdaa296b28a"
      },
      "execution_count": null,
      "outputs": [
        {
          "output_type": "execute_result",
          "data": {
            "text/plain": [
              "{5, 6}"
            ]
          },
          "metadata": {},
          "execution_count": 48
        }
      ]
    },
    {
      "cell_type": "code",
      "source": [
        "set1.issubset(set2)       # Check whether set1 is a subset of set2"
      ],
      "metadata": {
        "colab": {
          "base_uri": "https://localhost:8080/"
        },
        "id": "lzNipKV0tM2q",
        "outputId": "060044e7-4c7c-4d1d-e0fa-90e67409b1f1"
      },
      "execution_count": null,
      "outputs": [
        {
          "output_type": "execute_result",
          "data": {
            "text/plain": [
              "False"
            ]
          },
          "metadata": {},
          "execution_count": 49
        }
      ]
    },
    {
      "cell_type": "markdown",
      "source": [
        "You can convert a list into a set using the set() function. Converting a list to a set drops any duplicate elements in the list. This can be a useful way to strip unwanted duplicate items or count the number of unique elements in a list. I can also be useful to convert a list to a set if you plan to lookup items repeatedly, since membership lookups are faster with sets than lists.\n",
        "\n"
      ],
      "metadata": {
        "id": "KfUqGV-MtTpF"
      }
    },
    {
      "cell_type": "code",
      "source": [
        "my_list = [1,2,2,2,3,3,4,5,5,5,6]\n",
        "\n",
        "set(my_list)\n",
        "\n"
      ],
      "metadata": {
        "colab": {
          "base_uri": "https://localhost:8080/"
        },
        "id": "i9mSq0ittMnH",
        "outputId": "fad3e9e6-76ef-404c-ddbd-77174e120851"
      },
      "execution_count": null,
      "outputs": [
        {
          "output_type": "execute_result",
          "data": {
            "text/plain": [
              "{1, 2, 3, 4, 5, 6}"
            ]
          },
          "metadata": {},
          "execution_count": 50
        }
      ]
    }
  ]
}