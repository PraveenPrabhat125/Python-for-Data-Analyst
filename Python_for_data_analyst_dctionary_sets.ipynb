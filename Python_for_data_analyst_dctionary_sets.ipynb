{
  "nbformat": 4,
  "nbformat_minor": 0,
  "metadata": {
    "colab": {
      "provenance": [],
      "authorship_tag": "ABX9TyMAIkzRaiud16IUvrC7hahi",
      "include_colab_link": true
    },
    "kernelspec": {
      "name": "python3",
      "display_name": "Python 3"
    },
    "language_info": {
      "name": "python"
    }
  },
  "cells": [
    {
      "cell_type": "markdown",
      "metadata": {
        "id": "view-in-github",
        "colab_type": "text"
      },
      "source": [
        "<a href=\"https://colab.research.google.com/github/PraveenPrabhat125/Python-for-Data-Analyst/blob/main/Python_for_data_analyst_dctionary_sets.ipynb\" target=\"_parent\"><img src=\"https://colab.research.google.com/assets/colab-badge.svg\" alt=\"Open In Colab\"/></a>"
      ]
    },
    {
      "cell_type": "markdown",
      "source": [
        "# Numpy Arrays\n",
        "The numpy library is one of the core packages in Python's data science software stack. Many other Python data analysis libraries require numpy as a prerequisite, because they use its array data structure as a building block. The Kaggle Python environment has numpy available by default; if you are running Python locally, the Anaconda Python distribution comes with numpy as well.\n",
        "\n",
        "Numpy implements a data structure called the N-dimensional array or ndarray. ndarrays are similar to lists in that they contain a collection of items that can be accessed via indexes. On the other hand, ndarrays are homogeneous, meaning they can only contain objects of the same type and they can be multi-dimensional, making it easy to store 2-dimensional tables or matrices.\n",
        "\n",
        "To work with ndarrays, we need to load the numpy library. It is standard practice to load numpy with the alias \"np\" like so:"
      ],
      "metadata": {
        "id": "5lh8OZaNI2kF"
      }
    },
    {
      "cell_type": "code",
      "execution_count": 3,
      "metadata": {
        "id": "Mux6wg8WFMzt"
      },
      "outputs": [],
      "source": [
        "import numpy as np"
      ]
    },
    {
      "cell_type": "code",
      "source": [
        "my_list = [1,2,3,4]\n",
        "\n",
        "my_array = np.array(my_list)\n",
        "print(my_array)\n",
        "type(my_array)"
      ],
      "metadata": {
        "colab": {
          "base_uri": "https://localhost:8080/"
        },
        "id": "a7virPo_JXEs",
        "outputId": "7308ee1b-d7af-4a23-d5c5-e267a982e117"
      },
      "execution_count": 5,
      "outputs": [
        {
          "output_type": "stream",
          "name": "stdout",
          "text": [
            "[1 2 3 4]\n"
          ]
        },
        {
          "output_type": "execute_result",
          "data": {
            "text/plain": [
              "numpy.ndarray"
            ]
          },
          "metadata": {},
          "execution_count": 5
        }
      ]
    },
    {
      "cell_type": "markdown",
      "source": [
        "To create an array with more than one dimension, pass a nested list to np.array():"
      ],
      "metadata": {
        "id": "bVrxEXh4KQIF"
      }
    },
    {
      "cell_type": "code",
      "source": [
        "# 2 array\n",
        "second_list = [5,6,7,8]\n",
        "\n",
        "two_d_array = np.array([my_list, second_list]) # 2d array\n",
        "\n",
        "print(two_d_array)\n",
        "type(two_d_array)"
      ],
      "metadata": {
        "colab": {
          "base_uri": "https://localhost:8080/"
        },
        "id": "sM6s4nQdJXYH",
        "outputId": "f1e10bc0-0c4d-4458-c923-6a23339bb74e"
      },
      "execution_count": 7,
      "outputs": [
        {
          "output_type": "stream",
          "name": "stdout",
          "text": [
            "[[1 2 3 4]\n",
            " [5 6 7 8]]\n"
          ]
        },
        {
          "output_type": "execute_result",
          "data": {
            "text/plain": [
              "numpy.ndarray"
            ]
          },
          "metadata": {},
          "execution_count": 7
        }
      ]
    },
    {
      "cell_type": "code",
      "source": [
        "two_d_array.shape"
      ],
      "metadata": {
        "colab": {
          "base_uri": "https://localhost:8080/"
        },
        "id": "VNpwAzwBJXi3",
        "outputId": "c6e542e0-b3b9-4de1-9c44-6b4965a005c8"
      },
      "execution_count": 8,
      "outputs": [
        {
          "output_type": "execute_result",
          "data": {
            "text/plain": [
              "(2, 4)"
            ]
          },
          "metadata": {},
          "execution_count": 8
        }
      ]
    },
    {
      "cell_type": "code",
      "source": [
        "two_d_array.size"
      ],
      "metadata": {
        "colab": {
          "base_uri": "https://localhost:8080/"
        },
        "id": "8rZqP753JX8L",
        "outputId": "398b1d94-bb05-4ed5-fe3d-af75b10b87af"
      },
      "execution_count": 9,
      "outputs": [
        {
          "output_type": "execute_result",
          "data": {
            "text/plain": [
              "8"
            ]
          },
          "metadata": {},
          "execution_count": 9
        }
      ]
    },
    {
      "cell_type": "markdown",
      "source": [
        "Check the type of the data in an ndarray with the dtype attribute:"
      ],
      "metadata": {
        "id": "h8wE2761KZhI"
      }
    },
    {
      "cell_type": "code",
      "source": [
        "two_d_array.dtype"
      ],
      "metadata": {
        "colab": {
          "base_uri": "https://localhost:8080/"
        },
        "id": "TcOqzDwFJYG3",
        "outputId": "e8932f10-19b2-4c71-d8ca-63297f6ae130"
      },
      "execution_count": 10,
      "outputs": [
        {
          "output_type": "execute_result",
          "data": {
            "text/plain": [
              "dtype('int64')"
            ]
          },
          "metadata": {},
          "execution_count": 10
        }
      ]
    },
    {
      "cell_type": "markdown",
      "source": [
        "#. Special metric\n",
        "1. Identity metric\n",
        "2. zero metric\n",
        "3. null metric"
      ],
      "metadata": {
        "id": "V02cRBIKKbyX"
      }
    },
    {
      "cell_type": "code",
      "source": [
        "#Identity metric\n",
        "np.identity(n = 5)"
      ],
      "metadata": {
        "colab": {
          "base_uri": "https://localhost:8080/"
        },
        "id": "pPokweHvJYRI",
        "outputId": "78de7d61-7653-48cd-c82a-f2870848add7"
      },
      "execution_count": 11,
      "outputs": [
        {
          "output_type": "execute_result",
          "data": {
            "text/plain": [
              "array([[1., 0., 0., 0., 0.],\n",
              "       [0., 1., 0., 0., 0.],\n",
              "       [0., 0., 1., 0., 0.],\n",
              "       [0., 0., 0., 1., 0.],\n",
              "       [0., 0., 0., 0., 1.]])"
            ]
          },
          "metadata": {},
          "execution_count": 11
        }
      ]
    },
    {
      "cell_type": "code",
      "source": [
        "np.zeros(shape  = [4,6])"
      ],
      "metadata": {
        "colab": {
          "base_uri": "https://localhost:8080/"
        },
        "id": "pzYlm1VvJYdd",
        "outputId": "3d466370-0b87-4a2d-fbe4-426759921120"
      },
      "execution_count": 12,
      "outputs": [
        {
          "output_type": "execute_result",
          "data": {
            "text/plain": [
              "array([[0., 0., 0., 0., 0., 0.],\n",
              "       [0., 0., 0., 0., 0., 0.],\n",
              "       [0., 0., 0., 0., 0., 0.],\n",
              "       [0., 0., 0., 0., 0., 0.]])"
            ]
          },
          "metadata": {},
          "execution_count": 12
        }
      ]
    },
    {
      "cell_type": "code",
      "source": [
        "np.eye(N=3, M = 5, k = 2)\n",
        "\n",
        "# np.eye() to create a 2d array with 1's across a specified diagonal\n",
        "\n",
        "# np.eye(N = 3,  # Number of rows\n",
        "#        M = 5,  # Number of columns\n",
        "#        k = 1)  # Index of the diagonal (main diagonal (0) is default)"
      ],
      "metadata": {
        "colab": {
          "base_uri": "https://localhost:8080/"
        },
        "id": "fNiJqZU6JYoG",
        "outputId": "20340ce3-c42a-4371-acc1-00c83d505ab5"
      },
      "execution_count": 17,
      "outputs": [
        {
          "output_type": "execute_result",
          "data": {
            "text/plain": [
              "array([[0., 0., 1., 0., 0.],\n",
              "       [0., 0., 0., 1., 0.],\n",
              "       [0., 0., 0., 0., 1.]])"
            ]
          },
          "metadata": {},
          "execution_count": 17
        }
      ]
    },
    {
      "cell_type": "code",
      "source": [
        "# ones\n",
        "np.ones(shape = [3,4])"
      ],
      "metadata": {
        "colab": {
          "base_uri": "https://localhost:8080/"
        },
        "id": "nwd1WERgJYxn",
        "outputId": "acd3214e-0416-488b-f82a-bba6dae91352"
      },
      "execution_count": 18,
      "outputs": [
        {
          "output_type": "execute_result",
          "data": {
            "text/plain": [
              "array([[1., 1., 1., 1.],\n",
              "       [1., 1., 1., 1.],\n",
              "       [1., 1., 1., 1.]])"
            ]
          },
          "metadata": {},
          "execution_count": 18
        }
      ]
    },
    {
      "cell_type": "markdown",
      "source": [
        "## Array Indexing and Slicing"
      ],
      "metadata": {
        "id": "_zJRdqcEL43V"
      }
    },
    {
      "cell_type": "code",
      "source": [
        "# one d array\n",
        "one_d_array  = np.array([1,2,3,4,5,6])\n",
        "print(one_d_array[3]) # only 3rd index ele\n",
        "\n",
        "print(one_d_array[3:]) # from 4th place\n",
        "\n",
        "print(one_d_array[:]) # all element\n",
        "\n",
        "print(one_d_array[::-1]) # reverse array"
      ],
      "metadata": {
        "colab": {
          "base_uri": "https://localhost:8080/"
        },
        "id": "ahrE7QIhL8Vs",
        "outputId": "86b9a4b6-6a52-46f7-b894-146803854f4f"
      },
      "execution_count": 22,
      "outputs": [
        {
          "output_type": "stream",
          "name": "stdout",
          "text": [
            "4\n",
            "[4 5 6]\n",
            "[1 2 3 4 5 6]\n",
            "[6 5 4 3 2 1]\n"
          ]
        }
      ]
    },
    {
      "cell_type": "code",
      "source": [
        "# new 2d array\n",
        "two_d_arry = np.array([one_d_array, one_d_array+6, one_d_array+12])\n",
        "two_d_arry"
      ],
      "metadata": {
        "colab": {
          "base_uri": "https://localhost:8080/"
        },
        "id": "PTqPwVS9MjZ4",
        "outputId": "4e36e33b-b986-4fd7-c7ca-119831816172"
      },
      "execution_count": 23,
      "outputs": [
        {
          "output_type": "execute_result",
          "data": {
            "text/plain": [
              "array([[ 1,  2,  3,  4,  5,  6],\n",
              "       [ 7,  8,  9, 10, 11, 12],\n",
              "       [13, 14, 15, 16, 17, 18]])"
            ]
          },
          "metadata": {},
          "execution_count": 23
        }
      ]
    },
    {
      "cell_type": "code",
      "source": [
        "print(two_d_arry[1,1]) # one else 1,1\n",
        "\n",
        "print(two_d_arry[:, :]) # complete metrix\n",
        "\n",
        "print(two_d_arry[1:, 4:]) # one else 1,1\n",
        "\n"
      ],
      "metadata": {
        "colab": {
          "base_uri": "https://localhost:8080/"
        },
        "id": "z9rULZImM0gV",
        "outputId": "33a878d2-3f8e-43ff-feea-e22882994b40"
      },
      "execution_count": 26,
      "outputs": [
        {
          "output_type": "stream",
          "name": "stdout",
          "text": [
            "8\n",
            "[[ 1  2  3  4  5  6]\n",
            " [ 7  8  9 10 11 12]\n",
            " [13 14 15 16 17 18]]\n",
            "[[11 12]\n",
            " [17 18]]\n"
          ]
        }
      ]
    },
    {
      "cell_type": "code",
      "source": [
        "# Reverse both dimensions (180 degree rotation\n",
        "print(two_d_arry[::-1, ::-1])\n"
      ],
      "metadata": {
        "colab": {
          "base_uri": "https://localhost:8080/"
        },
        "id": "I3Zj84K4NMmC",
        "outputId": "ba4e5c2f-02fe-45f3-c016-01541c2cdc76"
      },
      "execution_count": 27,
      "outputs": [
        {
          "output_type": "stream",
          "name": "stdout",
          "text": [
            "[[18 17 16 15 14 13]\n",
            " [12 11 10  9  8  7]\n",
            " [ 6  5  4  3  2  1]]\n"
          ]
        }
      ]
    },
    {
      "cell_type": "markdown",
      "source": [
        "## Reshaping Arrays\n",
        "Numpy has a variety of built in functions to help you manipulate arrays quickly without having to use complicated indexing operations.\n",
        "\n",
        "Reshape an array into a new array with the same data but different structure with np.reshape():"
      ],
      "metadata": {
        "id": "Srk9pldZNXw7"
      }
    },
    {
      "cell_type": "code",
      "source": [
        "np.reshape(a=two_d_arry, newshape=[6,3])"
      ],
      "metadata": {
        "colab": {
          "base_uri": "https://localhost:8080/"
        },
        "id": "K2qx7smGNZ14",
        "outputId": "8363d241-4856-4587-cb18-be6d2bc730b2"
      },
      "execution_count": 28,
      "outputs": [
        {
          "output_type": "execute_result",
          "data": {
            "text/plain": [
              "array([[ 1,  2,  3],\n",
              "       [ 4,  5,  6],\n",
              "       [ 7,  8,  9],\n",
              "       [10, 11, 12],\n",
              "       [13, 14, 15],\n",
              "       [16, 17, 18]])"
            ]
          },
          "metadata": {},
          "execution_count": 28
        }
      ]
    },
    {
      "cell_type": "markdown",
      "source": [
        "Unravel a multi-dimensional into 1 dimension with np.ravel():"
      ],
      "metadata": {
        "id": "4I8rBwdUNpAa"
      }
    },
    {
      "cell_type": "code",
      "source": [
        "np.ravel(a=two_d_arry, order = 'C')"
      ],
      "metadata": {
        "colab": {
          "base_uri": "https://localhost:8080/"
        },
        "id": "Kxoo0NqnNpy8",
        "outputId": "1df48e9e-6098-4ff1-966c-15369a1e63af"
      },
      "execution_count": 29,
      "outputs": [
        {
          "output_type": "execute_result",
          "data": {
            "text/plain": [
              "array([ 1,  2,  3,  4,  5,  6,  7,  8,  9, 10, 11, 12, 13, 14, 15, 16, 17,\n",
              "       18])"
            ]
          },
          "metadata": {},
          "execution_count": 29
        }
      ]
    },
    {
      "cell_type": "code",
      "source": [
        "np.ravel(a=two_d_array,\n",
        "         order='F')         # Use Fortran-style unraveling (by columns)"
      ],
      "metadata": {
        "colab": {
          "base_uri": "https://localhost:8080/"
        },
        "id": "zc0JW8bDNx39",
        "outputId": "fc4b678c-df60-4b1e-dc65-5f40ea964870"
      },
      "execution_count": 30,
      "outputs": [
        {
          "output_type": "execute_result",
          "data": {
            "text/plain": [
              "array([1, 5, 2, 6, 3, 7, 4, 8])"
            ]
          },
          "metadata": {},
          "execution_count": 30
        }
      ]
    },
    {
      "cell_type": "markdown",
      "source": [
        "Alternatively, use ndarray.flatten() to flatten a multi-dimensional into 1 dimension and return a copy of the result:"
      ],
      "metadata": {
        "id": "QuRSoO7KN6fv"
      }
    },
    {
      "cell_type": "code",
      "source": [
        "two_d_arry.flatten()"
      ],
      "metadata": {
        "colab": {
          "base_uri": "https://localhost:8080/"
        },
        "id": "h8OzMDdKN7_I",
        "outputId": "57768c9a-eac6-497e-f075-db4f8fd0f277"
      },
      "execution_count": 31,
      "outputs": [
        {
          "output_type": "execute_result",
          "data": {
            "text/plain": [
              "array([ 1,  2,  3,  4,  5,  6,  7,  8,  9, 10, 11, 12, 13, 14, 15, 16, 17,\n",
              "       18])"
            ]
          },
          "metadata": {},
          "execution_count": 31
        }
      ]
    },
    {
      "cell_type": "markdown",
      "source": [
        "## Transpose\n",
        "get the transpose of an array with ndarray.T:"
      ],
      "metadata": {
        "id": "aq4utUCLOAK0"
      }
    },
    {
      "cell_type": "code",
      "source": [
        "two_d_arry.T"
      ],
      "metadata": {
        "colab": {
          "base_uri": "https://localhost:8080/"
        },
        "id": "rzK5GBTaOFH0",
        "outputId": "cc45199b-3ef1-42e1-da09-09e9339576cc"
      },
      "execution_count": 32,
      "outputs": [
        {
          "output_type": "execute_result",
          "data": {
            "text/plain": [
              "array([[ 1,  7, 13],\n",
              "       [ 2,  8, 14],\n",
              "       [ 3,  9, 15],\n",
              "       [ 4, 10, 16],\n",
              "       [ 5, 11, 17],\n",
              "       [ 6, 12, 18]])"
            ]
          },
          "metadata": {},
          "execution_count": 32
        }
      ]
    },
    {
      "cell_type": "markdown",
      "source": [
        "Flip an array vertically or horizontally with np.flipud() and np.fliplr() respectively:"
      ],
      "metadata": {
        "id": "eyvN7TcQOLgi"
      }
    },
    {
      "cell_type": "code",
      "source": [
        "np.flipud(two_d_arry)"
      ],
      "metadata": {
        "colab": {
          "base_uri": "https://localhost:8080/"
        },
        "id": "DH-UabfzOMPy",
        "outputId": "5238f316-3a25-49c5-af76-cb7ee8035518"
      },
      "execution_count": 34,
      "outputs": [
        {
          "output_type": "execute_result",
          "data": {
            "text/plain": [
              "array([[13, 14, 15, 16, 17, 18],\n",
              "       [ 7,  8,  9, 10, 11, 12],\n",
              "       [ 1,  2,  3,  4,  5,  6]])"
            ]
          },
          "metadata": {},
          "execution_count": 34
        }
      ]
    },
    {
      "cell_type": "code",
      "source": [
        "np.fliplr(two_d_arry)"
      ],
      "metadata": {
        "colab": {
          "base_uri": "https://localhost:8080/"
        },
        "id": "ry_cK3HnOUJA",
        "outputId": "09061586-13f7-4753-a423-498385374381"
      },
      "execution_count": 35,
      "outputs": [
        {
          "output_type": "execute_result",
          "data": {
            "text/plain": [
              "array([[ 6,  5,  4,  3,  2,  1],\n",
              "       [12, 11, 10,  9,  8,  7],\n",
              "       [18, 17, 16, 15, 14, 13]])"
            ]
          },
          "metadata": {},
          "execution_count": 35
        }
      ]
    },
    {
      "cell_type": "markdown",
      "source": [
        "Rotate an array 90 degrees counter-clockwise with np.rot90():"
      ],
      "metadata": {
        "id": "yq7IWrniOcmU"
      }
    },
    {
      "cell_type": "code",
      "source": [
        "np.rot90(two_d_arry, k =1)"
      ],
      "metadata": {
        "colab": {
          "base_uri": "https://localhost:8080/"
        },
        "id": "razbdSNGObDa",
        "outputId": "41c37132-04b0-4797-98da-b0da9697df53"
      },
      "execution_count": 36,
      "outputs": [
        {
          "output_type": "execute_result",
          "data": {
            "text/plain": [
              "array([[ 6, 12, 18],\n",
              "       [ 5, 11, 17],\n",
              "       [ 4, 10, 16],\n",
              "       [ 3,  9, 15],\n",
              "       [ 2,  8, 14],\n",
              "       [ 1,  7, 13]])"
            ]
          },
          "metadata": {},
          "execution_count": 36
        }
      ]
    },
    {
      "cell_type": "markdown",
      "source": [
        "Shift elements in an array along a given dimension with np.roll():"
      ],
      "metadata": {
        "id": "ueoBtd5_OuF0"
      }
    },
    {
      "cell_type": "code",
      "source": [
        "np.roll(a= two_d_array,\n",
        "        shift = 2,        # Shift elements 2 positions\n",
        "        axis = 1)         # In each row"
      ],
      "metadata": {
        "colab": {
          "base_uri": "https://localhost:8080/"
        },
        "id": "Fn6EuEcDOo5P",
        "outputId": "09dd2341-633f-4719-b2a4-5c67b1270834"
      },
      "execution_count": 37,
      "outputs": [
        {
          "output_type": "execute_result",
          "data": {
            "text/plain": [
              "array([[3, 4, 1, 2],\n",
              "       [7, 8, 5, 6]])"
            ]
          },
          "metadata": {},
          "execution_count": 37
        }
      ]
    },
    {
      "cell_type": "markdown",
      "source": [
        "## Concat\n"
      ],
      "metadata": {
        "id": "hIXU_cgZOzOM"
      }
    },
    {
      "cell_type": "code",
      "source": [
        "array_to_join = np.array([[10,20,30],[40,50,60],[70,80,90]])\n",
        "np.concatenate((two_d_arry, array_to_join), axis = 1)"
      ],
      "metadata": {
        "colab": {
          "base_uri": "https://localhost:8080/"
        },
        "id": "QyWQ7FfkO9Q9",
        "outputId": "6539efe5-2824-49ac-e8b9-f347e343ca30"
      },
      "execution_count": 41,
      "outputs": [
        {
          "output_type": "execute_result",
          "data": {
            "text/plain": [
              "array([[ 1,  2,  3,  4,  5,  6, 10, 20, 30],\n",
              "       [ 7,  8,  9, 10, 11, 12, 40, 50, 60],\n",
              "       [13, 14, 15, 16, 17, 18, 70, 80, 90]])"
            ]
          },
          "metadata": {},
          "execution_count": 41
        }
      ]
    },
    {
      "cell_type": "code",
      "source": [
        "np.concatenate((two_d_arry, array_to_join), axis = 0)"
      ],
      "metadata": {
        "colab": {
          "base_uri": "https://localhost:8080/",
          "height": 176
        },
        "id": "MBcjd9jpPPEa",
        "outputId": "77b4f27a-3654-40fb-869e-0303eb54a32e"
      },
      "execution_count": 42,
      "outputs": [
        {
          "output_type": "error",
          "ename": "ValueError",
          "evalue": "all the input array dimensions except for the concatenation axis must match exactly, but along dimension 1, the array at index 0 has size 6 and the array at index 1 has size 3",
          "traceback": [
            "\u001b[0;31m---------------------------------------------------------------------------\u001b[0m",
            "\u001b[0;31mValueError\u001b[0m                                Traceback (most recent call last)",
            "\u001b[0;32m<ipython-input-42-6616ee3d4939>\u001b[0m in \u001b[0;36m<cell line: 1>\u001b[0;34m()\u001b[0m\n\u001b[0;32m----> 1\u001b[0;31m \u001b[0mnp\u001b[0m\u001b[0;34m.\u001b[0m\u001b[0mconcatenate\u001b[0m\u001b[0;34m(\u001b[0m\u001b[0;34m(\u001b[0m\u001b[0mtwo_d_arry\u001b[0m\u001b[0;34m,\u001b[0m \u001b[0marray_to_join\u001b[0m\u001b[0;34m)\u001b[0m\u001b[0;34m,\u001b[0m \u001b[0maxis\u001b[0m \u001b[0;34m=\u001b[0m \u001b[0;36m0\u001b[0m\u001b[0;34m)\u001b[0m\u001b[0;34m\u001b[0m\u001b[0;34m\u001b[0m\u001b[0m\n\u001b[0m",
            "\u001b[0;31mValueError\u001b[0m: all the input array dimensions except for the concatenation axis must match exactly, but along dimension 1, the array at index 0 has size 6 and the array at index 1 has size 3"
          ]
        }
      ]
    },
    {
      "cell_type": "markdown",
      "source": [
        "## Array Math Operations\n",
        "\n",
        "Creating and manipulating arrays is nice, but the true power of numpy arrays is the ability to **perform** mathematical operations on many values quickly and easily. Unlike built in Python objects, you can use math operators like +, -, / and * to perform basic math operations with ndarrays:"
      ],
      "metadata": {
        "id": "HGNxaWWiPU4p"
      }
    },
    {
      "cell_type": "code",
      "source": [
        "print(two_d_arry + 100)\n",
        "\n",
        "print(two_d_arry - 100)\n",
        "\n",
        "print(two_d_arry * 100)\n",
        "\n",
        "print(two_d_arry ** 2)\n",
        "\n",
        "print(two_d_arry / 100)\n",
        "\n",
        "print(two_d_arry // 100)\n",
        "\n",
        "print(two_d_arry % 3)"
      ],
      "metadata": {
        "colab": {
          "base_uri": "https://localhost:8080/"
        },
        "id": "gOt2k9jJPXpd",
        "outputId": "d0911478-1e9c-4382-b6e3-3b040811ce91"
      },
      "execution_count": 49,
      "outputs": [
        {
          "output_type": "stream",
          "name": "stdout",
          "text": [
            "[[101 102 103 104 105 106]\n",
            " [107 108 109 110 111 112]\n",
            " [113 114 115 116 117 118]]\n",
            "[[-99 -98 -97 -96 -95 -94]\n",
            " [-93 -92 -91 -90 -89 -88]\n",
            " [-87 -86 -85 -84 -83 -82]]\n",
            "[[ 100  200  300  400  500  600]\n",
            " [ 700  800  900 1000 1100 1200]\n",
            " [1300 1400 1500 1600 1700 1800]]\n",
            "[[  1   4   9  16  25  36]\n",
            " [ 49  64  81 100 121 144]\n",
            " [169 196 225 256 289 324]]\n",
            "[[0.01 0.02 0.03 0.04 0.05 0.06]\n",
            " [0.07 0.08 0.09 0.1  0.11 0.12]\n",
            " [0.13 0.14 0.15 0.16 0.17 0.18]]\n",
            "[[0 0 0 0 0 0]\n",
            " [0 0 0 0 0 0]\n",
            " [0 0 0 0 0 0]]\n",
            "[[1 2 0 1 2 0]\n",
            " [1 2 0 1 2 0]\n",
            " [1 2 0 1 2 0]]\n"
          ]
        }
      ]
    },
    {
      "cell_type": "code",
      "source": [
        "small_array1 = np.array([[1,2],[3,4]])\n",
        "\n",
        "small_array1 + small_array1"
      ],
      "metadata": {
        "colab": {
          "base_uri": "https://localhost:8080/"
        },
        "id": "FzjeL5cGPbuD",
        "outputId": "19a7bc29-dece-4740-daae-c2f0936fc774"
      },
      "execution_count": 50,
      "outputs": [
        {
          "output_type": "execute_result",
          "data": {
            "text/plain": [
              "array([[2, 4],\n",
              "       [6, 8]])"
            ]
          },
          "metadata": {},
          "execution_count": 50
        }
      ]
    },
    {
      "cell_type": "code",
      "source": [
        "small_array1 - small_array1"
      ],
      "metadata": {
        "colab": {
          "base_uri": "https://localhost:8080/"
        },
        "id": "RC73HhmyPv7R",
        "outputId": "39abdf3b-9b51-4818-dc00-7bb432ca7054"
      },
      "execution_count": 51,
      "outputs": [
        {
          "output_type": "execute_result",
          "data": {
            "text/plain": [
              "array([[0, 0],\n",
              "       [0, 0]])"
            ]
          },
          "metadata": {},
          "execution_count": 51
        }
      ]
    },
    {
      "cell_type": "code",
      "source": [
        "small_array1 * small_array1"
      ],
      "metadata": {
        "colab": {
          "base_uri": "https://localhost:8080/"
        },
        "id": "o4vz043DPxcl",
        "outputId": "524acb64-294a-4b7e-8f13-c8aafe93621a"
      },
      "execution_count": 52,
      "outputs": [
        {
          "output_type": "execute_result",
          "data": {
            "text/plain": [
              "array([[ 1,  4],\n",
              "       [ 9, 16]])"
            ]
          },
          "metadata": {},
          "execution_count": 52
        }
      ]
    },
    {
      "cell_type": "code",
      "source": [
        "small_array1 ** small_array1"
      ],
      "metadata": {
        "colab": {
          "base_uri": "https://localhost:8080/"
        },
        "id": "3Usz5w0iPyLa",
        "outputId": "5aa95f47-c60f-49f3-80e7-db0050df0f1d"
      },
      "execution_count": 53,
      "outputs": [
        {
          "output_type": "execute_result",
          "data": {
            "text/plain": [
              "array([[  1,   4],\n",
              "       [ 27, 256]])"
            ]
          },
          "metadata": {},
          "execution_count": 53
        }
      ]
    },
    {
      "cell_type": "markdown",
      "source": [
        "Numpy also offers a variety of named math functions for ndarrays. There are too many to cover in detail here, so we'll just look at a selection of some of the most useful ones for data analysis:"
      ],
      "metadata": {
        "id": "0xQBjSVIP10T"
      }
    },
    {
      "cell_type": "code",
      "source": [
        "np.mean(two_d_arry)"
      ],
      "metadata": {
        "colab": {
          "base_uri": "https://localhost:8080/"
        },
        "id": "RJNvGxJ4Pzca",
        "outputId": "7488eeb1-b0be-471b-b9d2-086042dfcb37"
      },
      "execution_count": 54,
      "outputs": [
        {
          "output_type": "execute_result",
          "data": {
            "text/plain": [
              "9.5"
            ]
          },
          "metadata": {},
          "execution_count": 54
        }
      ]
    },
    {
      "cell_type": "code",
      "source": [
        "np.mean(two_d_arry, axis = 1) # row wise mean"
      ],
      "metadata": {
        "colab": {
          "base_uri": "https://localhost:8080/"
        },
        "id": "o-7qVdvrP8GM",
        "outputId": "2d2a5246-47e0-4ab4-a259-36be4ba76020"
      },
      "execution_count": 56,
      "outputs": [
        {
          "output_type": "execute_result",
          "data": {
            "text/plain": [
              "array([ 3.5,  9.5, 15.5])"
            ]
          },
          "metadata": {},
          "execution_count": 56
        }
      ]
    },
    {
      "cell_type": "code",
      "source": [
        "np.mean(two_d_arry, axis = 0) # col wise mean"
      ],
      "metadata": {
        "colab": {
          "base_uri": "https://localhost:8080/"
        },
        "id": "3-ijdJ9VQAAw",
        "outputId": "b6e75afd-66bd-4925-9476-c6c1ef90b48e"
      },
      "execution_count": 58,
      "outputs": [
        {
          "output_type": "execute_result",
          "data": {
            "text/plain": [
              "array([ 7.,  8.,  9., 10., 11., 12.])"
            ]
          },
          "metadata": {},
          "execution_count": 58
        }
      ]
    },
    {
      "cell_type": "code",
      "source": [
        "# Get the standard deviation all the elements in an array with np.std()\n",
        "\n",
        "np.std(two_d_arry)"
      ],
      "metadata": {
        "colab": {
          "base_uri": "https://localhost:8080/"
        },
        "id": "CEXu1pDYQC8Q",
        "outputId": "366f9b4d-d16d-4730-fda3-33999a0c64b2"
      },
      "execution_count": 59,
      "outputs": [
        {
          "output_type": "execute_result",
          "data": {
            "text/plain": [
              "5.188127472091127"
            ]
          },
          "metadata": {},
          "execution_count": 59
        }
      ]
    },
    {
      "cell_type": "code",
      "source": [
        "# Provide an axis argument to get standard deviations across a dimension\n",
        "\n",
        "np.std(two_d_arry,\n",
        "        axis = 0)     # Get stdev for each column"
      ],
      "metadata": {
        "colab": {
          "base_uri": "https://localhost:8080/"
        },
        "id": "EiRqEYByQGpO",
        "outputId": "075e1c5d-534b-4805-c66e-bd6b334f6bb9"
      },
      "execution_count": 61,
      "outputs": [
        {
          "output_type": "execute_result",
          "data": {
            "text/plain": [
              "array([4.89897949, 4.89897949, 4.89897949, 4.89897949, 4.89897949,\n",
              "       4.89897949])"
            ]
          },
          "metadata": {},
          "execution_count": 61
        }
      ]
    },
    {
      "cell_type": "code",
      "source": [
        "# Sum the elements of an array across an axis with np.sum()\n",
        "\n",
        "np.sum(two_d_arry,\n",
        "       axis=1)        # Get the row sums"
      ],
      "metadata": {
        "colab": {
          "base_uri": "https://localhost:8080/"
        },
        "id": "SW7lQDOxQJiw",
        "outputId": "96ce30f3-0f34-4a49-ecdf-bc14ff9555ad"
      },
      "execution_count": 62,
      "outputs": [
        {
          "output_type": "execute_result",
          "data": {
            "text/plain": [
              "array([21, 57, 93])"
            ]
          },
          "metadata": {},
          "execution_count": 62
        }
      ]
    },
    {
      "cell_type": "code",
      "source": [
        "# Take the log of each element in an array with np.log()\n",
        "\n",
        "np.log(two_d_arry)"
      ],
      "metadata": {
        "colab": {
          "base_uri": "https://localhost:8080/"
        },
        "id": "9QUeNF2VQMVs",
        "outputId": "76f5fe10-8779-4b5b-bb08-56de76fe8a82"
      },
      "execution_count": 63,
      "outputs": [
        {
          "output_type": "execute_result",
          "data": {
            "text/plain": [
              "array([[0.        , 0.69314718, 1.09861229, 1.38629436, 1.60943791,\n",
              "        1.79175947],\n",
              "       [1.94591015, 2.07944154, 2.19722458, 2.30258509, 2.39789527,\n",
              "        2.48490665],\n",
              "       [2.56494936, 2.63905733, 2.7080502 , 2.77258872, 2.83321334,\n",
              "        2.89037176]])"
            ]
          },
          "metadata": {},
          "execution_count": 63
        }
      ]
    },
    {
      "cell_type": "code",
      "source": [
        "# Take the square root of each element with np.sqrt()\n",
        "\n",
        "np.sqrt(two_d_arry)"
      ],
      "metadata": {
        "colab": {
          "base_uri": "https://localhost:8080/"
        },
        "id": "geQ3IgRcQORZ",
        "outputId": "2291025e-28b1-46f4-ccd9-98d865518726"
      },
      "execution_count": 64,
      "outputs": [
        {
          "output_type": "execute_result",
          "data": {
            "text/plain": [
              "array([[1.        , 1.41421356, 1.73205081, 2.        , 2.23606798,\n",
              "        2.44948974],\n",
              "       [2.64575131, 2.82842712, 3.        , 3.16227766, 3.31662479,\n",
              "        3.46410162],\n",
              "       [3.60555128, 3.74165739, 3.87298335, 4.        , 4.12310563,\n",
              "        4.24264069]])"
            ]
          },
          "metadata": {},
          "execution_count": 64
        }
      ]
    },
    {
      "cell_type": "markdown",
      "source": [
        "## Dot Product\n",
        "Take the dot product of two arrays with np.dot(). This function performs an element-wise multiply and then a sum for 1-dimensional arrays (vectors) and matrix multiplication for 2-dimensional arrays."
      ],
      "metadata": {
        "id": "nGVtV9r2QQ9T"
      }
    },
    {
      "cell_type": "code",
      "source": [
        "# Take the vector dot product of row 0 and row 1\n",
        "\n",
        "np.dot(two_d_arry[0,0:],  # Slice row 0\n",
        "       two_d_arry[1,0:])  # Slice row 1"
      ],
      "metadata": {
        "colab": {
          "base_uri": "https://localhost:8080/"
        },
        "id": "9X8do4n7QT0D",
        "outputId": "56fc47b1-89b3-41a0-a5af-b9017d818bb0"
      },
      "execution_count": 65,
      "outputs": [
        {
          "output_type": "execute_result",
          "data": {
            "text/plain": [
              "217"
            ]
          },
          "metadata": {},
          "execution_count": 65
        }
      ]
    },
    {
      "cell_type": "code",
      "source": [
        "# Do a matrix multiply\n",
        "# Do a matrix multiply\n",
        "\n",
        "np.dot(small_array1, small_array1)"
      ],
      "metadata": {
        "colab": {
          "base_uri": "https://localhost:8080/"
        },
        "id": "clFoGNbHQX-p",
        "outputId": "9f024070-bdcf-45d9-a04d-93d616287dca"
      },
      "execution_count": 68,
      "outputs": [
        {
          "output_type": "execute_result",
          "data": {
            "text/plain": [
              "array([[ 7, 10],\n",
              "       [15, 22]])"
            ]
          },
          "metadata": {},
          "execution_count": 68
        }
      ]
    }
  ]
}